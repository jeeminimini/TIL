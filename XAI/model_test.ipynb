{
 "cells": [
  {
   "cell_type": "code",
   "execution_count": 26,
   "metadata": {
    "id": "ujo2m15sonry"
   },
   "outputs": [],
   "source": [
    "import librosa, librosa.display \n",
    "import numpy as np\n",
    "import pandas as pd\n",
    "import glob\n",
    "from sklearn.model_selection import train_test_split\n",
    "from sklearn.metrics import accuracy_score\n",
    "import torch\n",
    "from PIL import Image\n",
    "import matplotlib.pyplot as plt\n",
    "from sklearn.preprocessing import MaxAbsScaler\n",
    "import cv2\n",
    "from tqdm import tqdm"
   ]
  },
  {
   "cell_type": "code",
   "execution_count": 2,
   "metadata": {},
   "outputs": [
    {
     "data": {
      "text/plain": [
       "['/home/vislab/dolearn-jimin-41/data/image_plt/Mel-Spectrogram_example_plt000.png',\n",
       " '/home/vislab/dolearn-jimin-41/data/image_plt/Mel-Spectrogram_example_plt001.png',\n",
       " '/home/vislab/dolearn-jimin-41/data/image_plt/Mel-Spectrogram_example_plt002.png',\n",
       " '/home/vislab/dolearn-jimin-41/data/image_plt/Mel-Spectrogram_example_plt003.png',\n",
       " '/home/vislab/dolearn-jimin-41/data/image_plt/Mel-Spectrogram_example_plt004.png',\n",
       " '/home/vislab/dolearn-jimin-41/data/image_plt/Mel-Spectrogram_example_plt005.png',\n",
       " '/home/vislab/dolearn-jimin-41/data/image_plt/Mel-Spectrogram_example_plt006.png',\n",
       " '/home/vislab/dolearn-jimin-41/data/image_plt/Mel-Spectrogram_example_plt007.png',\n",
       " '/home/vislab/dolearn-jimin-41/data/image_plt/Mel-Spectrogram_example_plt008.png',\n",
       " '/home/vislab/dolearn-jimin-41/data/image_plt/Mel-Spectrogram_example_plt009.png',\n",
       " '/home/vislab/dolearn-jimin-41/data/image_plt/Mel-Spectrogram_example_plt010.png',\n",
       " '/home/vislab/dolearn-jimin-41/data/image_plt/Mel-Spectrogram_example_plt011.png',\n",
       " '/home/vislab/dolearn-jimin-41/data/image_plt/Mel-Spectrogram_example_plt012.png',\n",
       " '/home/vislab/dolearn-jimin-41/data/image_plt/Mel-Spectrogram_example_plt013.png',\n",
       " '/home/vislab/dolearn-jimin-41/data/image_plt/Mel-Spectrogram_example_plt014.png',\n",
       " '/home/vislab/dolearn-jimin-41/data/image_plt/Mel-Spectrogram_example_plt015.png',\n",
       " '/home/vislab/dolearn-jimin-41/data/image_plt/Mel-Spectrogram_example_plt016.png',\n",
       " '/home/vislab/dolearn-jimin-41/data/image_plt/Mel-Spectrogram_example_plt017.png',\n",
       " '/home/vislab/dolearn-jimin-41/data/image_plt/Mel-Spectrogram_example_plt018.png',\n",
       " '/home/vislab/dolearn-jimin-41/data/image_plt/Mel-Spectrogram_example_plt019.png',\n",
       " '/home/vislab/dolearn-jimin-41/data/image_plt/Mel-Spectrogram_example_plt020.png',\n",
       " '/home/vislab/dolearn-jimin-41/data/image_plt/Mel-Spectrogram_example_plt021.png',\n",
       " '/home/vislab/dolearn-jimin-41/data/image_plt/Mel-Spectrogram_example_plt022.png',\n",
       " '/home/vislab/dolearn-jimin-41/data/image_plt/Mel-Spectrogram_example_plt023.png',\n",
       " '/home/vislab/dolearn-jimin-41/data/image_plt/Mel-Spectrogram_example_plt024.png',\n",
       " '/home/vislab/dolearn-jimin-41/data/image_plt/Mel-Spectrogram_example_plt025.png',\n",
       " '/home/vislab/dolearn-jimin-41/data/image_plt/Mel-Spectrogram_example_plt026.png',\n",
       " '/home/vislab/dolearn-jimin-41/data/image_plt/Mel-Spectrogram_example_plt027.png',\n",
       " '/home/vislab/dolearn-jimin-41/data/image_plt/Mel-Spectrogram_example_plt028.png',\n",
       " '/home/vislab/dolearn-jimin-41/data/image_plt/Mel-Spectrogram_example_plt029.png',\n",
       " '/home/vislab/dolearn-jimin-41/data/image_plt/Mel-Spectrogram_example_plt030.png',\n",
       " '/home/vislab/dolearn-jimin-41/data/image_plt/Mel-Spectrogram_example_plt031.png',\n",
       " '/home/vislab/dolearn-jimin-41/data/image_plt/Mel-Spectrogram_example_plt032.png',\n",
       " '/home/vislab/dolearn-jimin-41/data/image_plt/Mel-Spectrogram_example_plt033.png',\n",
       " '/home/vislab/dolearn-jimin-41/data/image_plt/Mel-Spectrogram_example_plt034.png',\n",
       " '/home/vislab/dolearn-jimin-41/data/image_plt/Mel-Spectrogram_example_plt035.png',\n",
       " '/home/vislab/dolearn-jimin-41/data/image_plt/Mel-Spectrogram_example_plt036.png',\n",
       " '/home/vislab/dolearn-jimin-41/data/image_plt/Mel-Spectrogram_example_plt037.png',\n",
       " '/home/vislab/dolearn-jimin-41/data/image_plt/Mel-Spectrogram_example_plt038.png',\n",
       " '/home/vislab/dolearn-jimin-41/data/image_plt/Mel-Spectrogram_example_plt039.png',\n",
       " '/home/vislab/dolearn-jimin-41/data/image_plt/Mel-Spectrogram_example_plt040.png',\n",
       " '/home/vislab/dolearn-jimin-41/data/image_plt/Mel-Spectrogram_example_plt041.png',\n",
       " '/home/vislab/dolearn-jimin-41/data/image_plt/Mel-Spectrogram_example_plt042.png',\n",
       " '/home/vislab/dolearn-jimin-41/data/image_plt/Mel-Spectrogram_example_plt043.png',\n",
       " '/home/vislab/dolearn-jimin-41/data/image_plt/Mel-Spectrogram_example_plt044.png',\n",
       " '/home/vislab/dolearn-jimin-41/data/image_plt/Mel-Spectrogram_example_plt045.png',\n",
       " '/home/vislab/dolearn-jimin-41/data/image_plt/Mel-Spectrogram_example_plt046.png',\n",
       " '/home/vislab/dolearn-jimin-41/data/image_plt/Mel-Spectrogram_example_plt047.png',\n",
       " '/home/vislab/dolearn-jimin-41/data/image_plt/Mel-Spectrogram_example_plt048.png',\n",
       " '/home/vislab/dolearn-jimin-41/data/image_plt/Mel-Spectrogram_example_plt049.png',\n",
       " '/home/vislab/dolearn-jimin-41/data/image_plt/Mel-Spectrogram_example_plt050.png',\n",
       " '/home/vislab/dolearn-jimin-41/data/image_plt/Mel-Spectrogram_example_plt051.png',\n",
       " '/home/vislab/dolearn-jimin-41/data/image_plt/Mel-Spectrogram_example_plt052.png',\n",
       " '/home/vislab/dolearn-jimin-41/data/image_plt/Mel-Spectrogram_example_plt053.png',\n",
       " '/home/vislab/dolearn-jimin-41/data/image_plt/Mel-Spectrogram_example_plt054.png',\n",
       " '/home/vislab/dolearn-jimin-41/data/image_plt/Mel-Spectrogram_example_plt055.png',\n",
       " '/home/vislab/dolearn-jimin-41/data/image_plt/Mel-Spectrogram_example_plt056.png',\n",
       " '/home/vislab/dolearn-jimin-41/data/image_plt/Mel-Spectrogram_example_plt057.png',\n",
       " '/home/vislab/dolearn-jimin-41/data/image_plt/Mel-Spectrogram_example_plt058.png',\n",
       " '/home/vislab/dolearn-jimin-41/data/image_plt/Mel-Spectrogram_example_plt059.png',\n",
       " '/home/vislab/dolearn-jimin-41/data/image_plt/Mel-Spectrogram_example_plt060.png',\n",
       " '/home/vislab/dolearn-jimin-41/data/image_plt/Mel-Spectrogram_example_plt061.png',\n",
       " '/home/vislab/dolearn-jimin-41/data/image_plt/Mel-Spectrogram_example_plt062.png',\n",
       " '/home/vislab/dolearn-jimin-41/data/image_plt/Mel-Spectrogram_example_plt063.png',\n",
       " '/home/vislab/dolearn-jimin-41/data/image_plt/Mel-Spectrogram_example_plt064.png',\n",
       " '/home/vislab/dolearn-jimin-41/data/image_plt/Mel-Spectrogram_example_plt065.png',\n",
       " '/home/vislab/dolearn-jimin-41/data/image_plt/Mel-Spectrogram_example_plt066.png',\n",
       " '/home/vislab/dolearn-jimin-41/data/image_plt/Mel-Spectrogram_example_plt067.png',\n",
       " '/home/vislab/dolearn-jimin-41/data/image_plt/Mel-Spectrogram_example_plt068.png',\n",
       " '/home/vislab/dolearn-jimin-41/data/image_plt/Mel-Spectrogram_example_plt069.png',\n",
       " '/home/vislab/dolearn-jimin-41/data/image_plt/Mel-Spectrogram_example_plt070.png',\n",
       " '/home/vislab/dolearn-jimin-41/data/image_plt/Mel-Spectrogram_example_plt071.png',\n",
       " '/home/vislab/dolearn-jimin-41/data/image_plt/Mel-Spectrogram_example_plt072.png',\n",
       " '/home/vislab/dolearn-jimin-41/data/image_plt/Mel-Spectrogram_example_plt073.png',\n",
       " '/home/vislab/dolearn-jimin-41/data/image_plt/Mel-Spectrogram_example_plt074.png',\n",
       " '/home/vislab/dolearn-jimin-41/data/image_plt/Mel-Spectrogram_example_plt075.png',\n",
       " '/home/vislab/dolearn-jimin-41/data/image_plt/Mel-Spectrogram_example_plt076.png',\n",
       " '/home/vislab/dolearn-jimin-41/data/image_plt/Mel-Spectrogram_example_plt077.png',\n",
       " '/home/vislab/dolearn-jimin-41/data/image_plt/Mel-Spectrogram_example_plt078.png',\n",
       " '/home/vislab/dolearn-jimin-41/data/image_plt/Mel-Spectrogram_example_plt079.png',\n",
       " '/home/vislab/dolearn-jimin-41/data/image_plt/Mel-Spectrogram_example_plt080.png',\n",
       " '/home/vislab/dolearn-jimin-41/data/image_plt/Mel-Spectrogram_example_plt081.png',\n",
       " '/home/vislab/dolearn-jimin-41/data/image_plt/Mel-Spectrogram_example_plt082.png',\n",
       " '/home/vislab/dolearn-jimin-41/data/image_plt/Mel-Spectrogram_example_plt083.png',\n",
       " '/home/vislab/dolearn-jimin-41/data/image_plt/Mel-Spectrogram_example_plt084.png',\n",
       " '/home/vislab/dolearn-jimin-41/data/image_plt/Mel-Spectrogram_example_plt085.png',\n",
       " '/home/vislab/dolearn-jimin-41/data/image_plt/Mel-Spectrogram_example_plt086.png',\n",
       " '/home/vislab/dolearn-jimin-41/data/image_plt/Mel-Spectrogram_example_plt087.png',\n",
       " '/home/vislab/dolearn-jimin-41/data/image_plt/Mel-Spectrogram_example_plt088.png',\n",
       " '/home/vislab/dolearn-jimin-41/data/image_plt/Mel-Spectrogram_example_plt089.png',\n",
       " '/home/vislab/dolearn-jimin-41/data/image_plt/Mel-Spectrogram_example_plt090.png',\n",
       " '/home/vislab/dolearn-jimin-41/data/image_plt/Mel-Spectrogram_example_plt091.png',\n",
       " '/home/vislab/dolearn-jimin-41/data/image_plt/Mel-Spectrogram_example_plt092.png',\n",
       " '/home/vislab/dolearn-jimin-41/data/image_plt/Mel-Spectrogram_example_plt093.png',\n",
       " '/home/vislab/dolearn-jimin-41/data/image_plt/Mel-Spectrogram_example_plt094.png',\n",
       " '/home/vislab/dolearn-jimin-41/data/image_plt/Mel-Spectrogram_example_plt095.png',\n",
       " '/home/vislab/dolearn-jimin-41/data/image_plt/Mel-Spectrogram_example_plt096.png',\n",
       " '/home/vislab/dolearn-jimin-41/data/image_plt/Mel-Spectrogram_example_plt097.png',\n",
       " '/home/vislab/dolearn-jimin-41/data/image_plt/Mel-Spectrogram_example_plt098.png',\n",
       " '/home/vislab/dolearn-jimin-41/data/image_plt/Mel-Spectrogram_example_plt099.png',\n",
       " '/home/vislab/dolearn-jimin-41/data/image_plt/Mel-Spectrogram_example_plt100.png',\n",
       " '/home/vislab/dolearn-jimin-41/data/image_plt/Mel-Spectrogram_example_plt101.png',\n",
       " '/home/vislab/dolearn-jimin-41/data/image_plt/Mel-Spectrogram_example_plt102.png',\n",
       " '/home/vislab/dolearn-jimin-41/data/image_plt/Mel-Spectrogram_example_plt103.png',\n",
       " '/home/vislab/dolearn-jimin-41/data/image_plt/Mel-Spectrogram_example_plt104.png',\n",
       " '/home/vislab/dolearn-jimin-41/data/image_plt/Mel-Spectrogram_example_plt105.png',\n",
       " '/home/vislab/dolearn-jimin-41/data/image_plt/Mel-Spectrogram_example_plt106.png',\n",
       " '/home/vislab/dolearn-jimin-41/data/image_plt/Mel-Spectrogram_example_plt107.png',\n",
       " '/home/vislab/dolearn-jimin-41/data/image_plt/Mel-Spectrogram_example_plt108.png',\n",
       " '/home/vislab/dolearn-jimin-41/data/image_plt/Mel-Spectrogram_example_plt109.png',\n",
       " '/home/vislab/dolearn-jimin-41/data/image_plt/Mel-Spectrogram_example_plt110.png',\n",
       " '/home/vislab/dolearn-jimin-41/data/image_plt/Mel-Spectrogram_example_plt111.png',\n",
       " '/home/vislab/dolearn-jimin-41/data/image_plt/Mel-Spectrogram_example_plt112.png',\n",
       " '/home/vislab/dolearn-jimin-41/data/image_plt/Mel-Spectrogram_example_plt113.png',\n",
       " '/home/vislab/dolearn-jimin-41/data/image_plt/Mel-Spectrogram_example_plt114.png',\n",
       " '/home/vislab/dolearn-jimin-41/data/image_plt/Mel-Spectrogram_example_plt115.png',\n",
       " '/home/vislab/dolearn-jimin-41/data/image_plt/Mel-Spectrogram_example_plt116.png',\n",
       " '/home/vislab/dolearn-jimin-41/data/image_plt/Mel-Spectrogram_example_plt117.png',\n",
       " '/home/vislab/dolearn-jimin-41/data/image_plt/Mel-Spectrogram_example_plt118.png',\n",
       " '/home/vislab/dolearn-jimin-41/data/image_plt/Mel-Spectrogram_example_plt119.png',\n",
       " '/home/vislab/dolearn-jimin-41/data/image_plt/Mel-Spectrogram_example_plt120.png',\n",
       " '/home/vislab/dolearn-jimin-41/data/image_plt/Mel-Spectrogram_example_plt121.png',\n",
       " '/home/vislab/dolearn-jimin-41/data/image_plt/Mel-Spectrogram_example_plt122.png',\n",
       " '/home/vislab/dolearn-jimin-41/data/image_plt/Mel-Spectrogram_example_plt123.png',\n",
       " '/home/vislab/dolearn-jimin-41/data/image_plt/Mel-Spectrogram_example_plt124.png',\n",
       " '/home/vislab/dolearn-jimin-41/data/image_plt/Mel-Spectrogram_example_plt125.png',\n",
       " '/home/vislab/dolearn-jimin-41/data/image_plt/Mel-Spectrogram_example_plt126.png',\n",
       " '/home/vislab/dolearn-jimin-41/data/image_plt/Mel-Spectrogram_example_plt127.png',\n",
       " '/home/vislab/dolearn-jimin-41/data/image_plt/Mel-Spectrogram_example_plt128.png',\n",
       " '/home/vislab/dolearn-jimin-41/data/image_plt/Mel-Spectrogram_example_plt129.png',\n",
       " '/home/vislab/dolearn-jimin-41/data/image_plt/Mel-Spectrogram_example_plt130.png',\n",
       " '/home/vislab/dolearn-jimin-41/data/image_plt/Mel-Spectrogram_example_plt131.png',\n",
       " '/home/vislab/dolearn-jimin-41/data/image_plt/Mel-Spectrogram_example_plt132.png',\n",
       " '/home/vislab/dolearn-jimin-41/data/image_plt/Mel-Spectrogram_example_plt133.png',\n",
       " '/home/vislab/dolearn-jimin-41/data/image_plt/Mel-Spectrogram_example_plt134.png',\n",
       " '/home/vislab/dolearn-jimin-41/data/image_plt/Mel-Spectrogram_example_plt135.png',\n",
       " '/home/vislab/dolearn-jimin-41/data/image_plt/Mel-Spectrogram_example_plt136.png',\n",
       " '/home/vislab/dolearn-jimin-41/data/image_plt/Mel-Spectrogram_example_plt137.png',\n",
       " '/home/vislab/dolearn-jimin-41/data/image_plt/Mel-Spectrogram_example_plt138.png',\n",
       " '/home/vislab/dolearn-jimin-41/data/image_plt/Mel-Spectrogram_example_plt139.png',\n",
       " '/home/vislab/dolearn-jimin-41/data/image_plt/Mel-Spectrogram_example_plt140.png',\n",
       " '/home/vislab/dolearn-jimin-41/data/image_plt/Mel-Spectrogram_example_plt141.png',\n",
       " '/home/vislab/dolearn-jimin-41/data/image_plt/Mel-Spectrogram_example_plt142.png',\n",
       " '/home/vislab/dolearn-jimin-41/data/image_plt/Mel-Spectrogram_example_plt143.png',\n",
       " '/home/vislab/dolearn-jimin-41/data/image_plt/Mel-Spectrogram_example_plt144.png',\n",
       " '/home/vislab/dolearn-jimin-41/data/image_plt/Mel-Spectrogram_example_plt145.png',\n",
       " '/home/vislab/dolearn-jimin-41/data/image_plt/Mel-Spectrogram_example_plt146.png',\n",
       " '/home/vislab/dolearn-jimin-41/data/image_plt/Mel-Spectrogram_example_plt147.png',\n",
       " '/home/vislab/dolearn-jimin-41/data/image_plt/Mel-Spectrogram_example_plt148.png',\n",
       " '/home/vislab/dolearn-jimin-41/data/image_plt/Mel-Spectrogram_example_plt149.png',\n",
       " '/home/vislab/dolearn-jimin-41/data/image_plt/Mel-Spectrogram_example_plt150.png',\n",
       " '/home/vislab/dolearn-jimin-41/data/image_plt/Mel-Spectrogram_example_plt151.png',\n",
       " '/home/vislab/dolearn-jimin-41/data/image_plt/Mel-Spectrogram_example_plt152.png',\n",
       " '/home/vislab/dolearn-jimin-41/data/image_plt/Mel-Spectrogram_example_plt153.png',\n",
       " '/home/vislab/dolearn-jimin-41/data/image_plt/Mel-Spectrogram_example_plt154.png',\n",
       " '/home/vislab/dolearn-jimin-41/data/image_plt/Mel-Spectrogram_example_plt155.png',\n",
       " '/home/vislab/dolearn-jimin-41/data/image_plt/Mel-Spectrogram_example_plt156.png',\n",
       " '/home/vislab/dolearn-jimin-41/data/image_plt/Mel-Spectrogram_example_plt157.png',\n",
       " '/home/vislab/dolearn-jimin-41/data/image_plt/Mel-Spectrogram_example_plt158.png',\n",
       " '/home/vislab/dolearn-jimin-41/data/image_plt/Mel-Spectrogram_example_plt159.png',\n",
       " '/home/vislab/dolearn-jimin-41/data/image_plt/Mel-Spectrogram_example_plt160.png',\n",
       " '/home/vislab/dolearn-jimin-41/data/image_plt/Mel-Spectrogram_example_plt161.png',\n",
       " '/home/vislab/dolearn-jimin-41/data/image_plt/Mel-Spectrogram_example_plt162.png',\n",
       " '/home/vislab/dolearn-jimin-41/data/image_plt/Mel-Spectrogram_example_plt163.png',\n",
       " '/home/vislab/dolearn-jimin-41/data/image_plt/Mel-Spectrogram_example_plt164.png',\n",
       " '/home/vislab/dolearn-jimin-41/data/image_plt/Mel-Spectrogram_example_plt165.png',\n",
       " '/home/vislab/dolearn-jimin-41/data/image_plt/Mel-Spectrogram_example_plt166.png',\n",
       " '/home/vislab/dolearn-jimin-41/data/image_plt/Mel-Spectrogram_example_plt167.png',\n",
       " '/home/vislab/dolearn-jimin-41/data/image_plt/Mel-Spectrogram_example_plt168.png',\n",
       " '/home/vislab/dolearn-jimin-41/data/image_plt/Mel-Spectrogram_example_plt169.png',\n",
       " '/home/vislab/dolearn-jimin-41/data/image_plt/Mel-Spectrogram_example_plt170.png',\n",
       " '/home/vislab/dolearn-jimin-41/data/image_plt/Mel-Spectrogram_example_plt171.png',\n",
       " '/home/vislab/dolearn-jimin-41/data/image_plt/Mel-Spectrogram_example_plt172.png',\n",
       " '/home/vislab/dolearn-jimin-41/data/image_plt/Mel-Spectrogram_example_plt173.png',\n",
       " '/home/vislab/dolearn-jimin-41/data/image_plt/Mel-Spectrogram_example_plt174.png',\n",
       " '/home/vislab/dolearn-jimin-41/data/image_plt/Mel-Spectrogram_example_plt175.png',\n",
       " '/home/vislab/dolearn-jimin-41/data/image_plt/Mel-Spectrogram_example_plt176.png',\n",
       " '/home/vislab/dolearn-jimin-41/data/image_plt/Mel-Spectrogram_example_plt177.png',\n",
       " '/home/vislab/dolearn-jimin-41/data/image_plt/Mel-Spectrogram_example_plt178.png',\n",
       " '/home/vislab/dolearn-jimin-41/data/image_plt/Mel-Spectrogram_example_plt179.png',\n",
       " '/home/vislab/dolearn-jimin-41/data/image_plt/Mel-Spectrogram_example_plt180.png',\n",
       " '/home/vislab/dolearn-jimin-41/data/image_plt/Mel-Spectrogram_example_plt181.png',\n",
       " '/home/vislab/dolearn-jimin-41/data/image_plt/Mel-Spectrogram_example_plt182.png',\n",
       " '/home/vislab/dolearn-jimin-41/data/image_plt/Mel-Spectrogram_example_plt183.png',\n",
       " '/home/vislab/dolearn-jimin-41/data/image_plt/Mel-Spectrogram_example_plt184.png',\n",
       " '/home/vislab/dolearn-jimin-41/data/image_plt/Mel-Spectrogram_example_plt185.png',\n",
       " '/home/vislab/dolearn-jimin-41/data/image_plt/Mel-Spectrogram_example_plt186.png',\n",
       " '/home/vislab/dolearn-jimin-41/data/image_plt/Mel-Spectrogram_example_plt187.png',\n",
       " '/home/vislab/dolearn-jimin-41/data/image_plt/Mel-Spectrogram_example_plt188.png',\n",
       " '/home/vislab/dolearn-jimin-41/data/image_plt/Mel-Spectrogram_example_plt189.png',\n",
       " '/home/vislab/dolearn-jimin-41/data/image_plt/Mel-Spectrogram_example_plt190.png',\n",
       " '/home/vislab/dolearn-jimin-41/data/image_plt/Mel-Spectrogram_example_plt191.png',\n",
       " '/home/vislab/dolearn-jimin-41/data/image_plt/Mel-Spectrogram_example_plt192.png',\n",
       " '/home/vislab/dolearn-jimin-41/data/image_plt/Mel-Spectrogram_example_plt193.png',\n",
       " '/home/vislab/dolearn-jimin-41/data/image_plt/Mel-Spectrogram_example_plt194.png',\n",
       " '/home/vislab/dolearn-jimin-41/data/image_plt/Mel-Spectrogram_example_plt195.png',\n",
       " '/home/vislab/dolearn-jimin-41/data/image_plt/Mel-Spectrogram_example_plt196.png',\n",
       " '/home/vislab/dolearn-jimin-41/data/image_plt/Mel-Spectrogram_example_plt197.png',\n",
       " '/home/vislab/dolearn-jimin-41/data/image_plt/Mel-Spectrogram_example_plt198.png',\n",
       " '/home/vislab/dolearn-jimin-41/data/image_plt/Mel-Spectrogram_example_plt199.png',\n",
       " '/home/vislab/dolearn-jimin-41/data/image_plt/Mel-Spectrogram_example_plt200.png',\n",
       " '/home/vislab/dolearn-jimin-41/data/image_plt/Mel-Spectrogram_example_plt201.png',\n",
       " '/home/vislab/dolearn-jimin-41/data/image_plt/Mel-Spectrogram_example_plt202.png',\n",
       " '/home/vislab/dolearn-jimin-41/data/image_plt/Mel-Spectrogram_example_plt203.png',\n",
       " '/home/vislab/dolearn-jimin-41/data/image_plt/Mel-Spectrogram_example_plt204.png',\n",
       " '/home/vislab/dolearn-jimin-41/data/image_plt/Mel-Spectrogram_example_plt205.png',\n",
       " '/home/vislab/dolearn-jimin-41/data/image_plt/Mel-Spectrogram_example_plt206.png',\n",
       " '/home/vislab/dolearn-jimin-41/data/image_plt/Mel-Spectrogram_example_plt207.png',\n",
       " '/home/vislab/dolearn-jimin-41/data/image_plt/Mel-Spectrogram_example_plt208.png',\n",
       " '/home/vislab/dolearn-jimin-41/data/image_plt/Mel-Spectrogram_example_plt209.png',\n",
       " '/home/vislab/dolearn-jimin-41/data/image_plt/Mel-Spectrogram_example_plt210.png',\n",
       " '/home/vislab/dolearn-jimin-41/data/image_plt/Mel-Spectrogram_example_plt211.png',\n",
       " '/home/vislab/dolearn-jimin-41/data/image_plt/Mel-Spectrogram_example_plt212.png',\n",
       " '/home/vislab/dolearn-jimin-41/data/image_plt/Mel-Spectrogram_example_plt213.png',\n",
       " '/home/vislab/dolearn-jimin-41/data/image_plt/Mel-Spectrogram_example_plt214.png',\n",
       " '/home/vislab/dolearn-jimin-41/data/image_plt/Mel-Spectrogram_example_plt215.png',\n",
       " '/home/vislab/dolearn-jimin-41/data/image_plt/Mel-Spectrogram_example_plt216.png',\n",
       " '/home/vislab/dolearn-jimin-41/data/image_plt/Mel-Spectrogram_example_plt217.png',\n",
       " '/home/vislab/dolearn-jimin-41/data/image_plt/Mel-Spectrogram_example_plt218.png',\n",
       " '/home/vislab/dolearn-jimin-41/data/image_plt/Mel-Spectrogram_example_plt219.png',\n",
       " '/home/vislab/dolearn-jimin-41/data/image_plt/Mel-Spectrogram_example_plt220.png',\n",
       " '/home/vislab/dolearn-jimin-41/data/image_plt/Mel-Spectrogram_example_plt221.png',\n",
       " '/home/vislab/dolearn-jimin-41/data/image_plt/Mel-Spectrogram_example_plt222.png',\n",
       " '/home/vislab/dolearn-jimin-41/data/image_plt/Mel-Spectrogram_example_plt223.png',\n",
       " '/home/vislab/dolearn-jimin-41/data/image_plt/Mel-Spectrogram_example_plt224.png',\n",
       " '/home/vislab/dolearn-jimin-41/data/image_plt/Mel-Spectrogram_example_plt225.png',\n",
       " '/home/vislab/dolearn-jimin-41/data/image_plt/Mel-Spectrogram_example_plt226.png',\n",
       " '/home/vislab/dolearn-jimin-41/data/image_plt/Mel-Spectrogram_example_plt227.png',\n",
       " '/home/vislab/dolearn-jimin-41/data/image_plt/Mel-Spectrogram_example_plt228.png',\n",
       " '/home/vislab/dolearn-jimin-41/data/image_plt/Mel-Spectrogram_example_plt229.png',\n",
       " '/home/vislab/dolearn-jimin-41/data/image_plt/Mel-Spectrogram_example_plt230.png',\n",
       " '/home/vislab/dolearn-jimin-41/data/image_plt/Mel-Spectrogram_example_plt231.png',\n",
       " '/home/vislab/dolearn-jimin-41/data/image_plt/Mel-Spectrogram_example_plt232.png',\n",
       " '/home/vislab/dolearn-jimin-41/data/image_plt/Mel-Spectrogram_example_plt233.png',\n",
       " '/home/vislab/dolearn-jimin-41/data/image_plt/Mel-Spectrogram_example_plt234.png',\n",
       " '/home/vislab/dolearn-jimin-41/data/image_plt/Mel-Spectrogram_example_plt235.png',\n",
       " '/home/vislab/dolearn-jimin-41/data/image_plt/Mel-Spectrogram_example_plt236.png',\n",
       " '/home/vislab/dolearn-jimin-41/data/image_plt/Mel-Spectrogram_example_plt237.png',\n",
       " '/home/vislab/dolearn-jimin-41/data/image_plt/Mel-Spectrogram_example_plt238.png',\n",
       " '/home/vislab/dolearn-jimin-41/data/image_plt/Mel-Spectrogram_example_plt239.png',\n",
       " '/home/vislab/dolearn-jimin-41/data/image_plt/Mel-Spectrogram_example_plt240.png',\n",
       " '/home/vislab/dolearn-jimin-41/data/image_plt/Mel-Spectrogram_example_plt241.png',\n",
       " '/home/vislab/dolearn-jimin-41/data/image_plt/Mel-Spectrogram_example_plt242.png',\n",
       " '/home/vislab/dolearn-jimin-41/data/image_plt/Mel-Spectrogram_example_plt243.png',\n",
       " '/home/vislab/dolearn-jimin-41/data/image_plt/Mel-Spectrogram_example_plt244.png',\n",
       " '/home/vislab/dolearn-jimin-41/data/image_plt/Mel-Spectrogram_example_plt245.png',\n",
       " '/home/vislab/dolearn-jimin-41/data/image_plt/Mel-Spectrogram_example_plt246.png',\n",
       " '/home/vislab/dolearn-jimin-41/data/image_plt/Mel-Spectrogram_example_plt247.png',\n",
       " '/home/vislab/dolearn-jimin-41/data/image_plt/Mel-Spectrogram_example_plt248.png',\n",
       " '/home/vislab/dolearn-jimin-41/data/image_plt/Mel-Spectrogram_example_plt249.png',\n",
       " '/home/vislab/dolearn-jimin-41/data/image_plt/Mel-Spectrogram_example_plt250.png',\n",
       " '/home/vislab/dolearn-jimin-41/data/image_plt/Mel-Spectrogram_example_plt251.png',\n",
       " '/home/vislab/dolearn-jimin-41/data/image_plt/Mel-Spectrogram_example_plt252.png',\n",
       " '/home/vislab/dolearn-jimin-41/data/image_plt/Mel-Spectrogram_example_plt253.png',\n",
       " '/home/vislab/dolearn-jimin-41/data/image_plt/Mel-Spectrogram_example_plt254.png',\n",
       " '/home/vislab/dolearn-jimin-41/data/image_plt/Mel-Spectrogram_example_plt255.png',\n",
       " '/home/vislab/dolearn-jimin-41/data/image_plt/Mel-Spectrogram_example_plt256.png',\n",
       " '/home/vislab/dolearn-jimin-41/data/image_plt/Mel-Spectrogram_example_plt257.png',\n",
       " '/home/vislab/dolearn-jimin-41/data/image_plt/Mel-Spectrogram_example_plt258.png',\n",
       " '/home/vislab/dolearn-jimin-41/data/image_plt/Mel-Spectrogram_example_plt259.png',\n",
       " '/home/vislab/dolearn-jimin-41/data/image_plt/Mel-Spectrogram_example_plt260.png',\n",
       " '/home/vislab/dolearn-jimin-41/data/image_plt/Mel-Spectrogram_example_plt261.png',\n",
       " '/home/vislab/dolearn-jimin-41/data/image_plt/Mel-Spectrogram_example_plt262.png',\n",
       " '/home/vislab/dolearn-jimin-41/data/image_plt/Mel-Spectrogram_example_plt263.png',\n",
       " '/home/vislab/dolearn-jimin-41/data/image_plt/Mel-Spectrogram_example_plt264.png',\n",
       " '/home/vislab/dolearn-jimin-41/data/image_plt/Mel-Spectrogram_example_plt265.png',\n",
       " '/home/vislab/dolearn-jimin-41/data/image_plt/Mel-Spectrogram_example_plt266.png',\n",
       " '/home/vislab/dolearn-jimin-41/data/image_plt/Mel-Spectrogram_example_plt267.png',\n",
       " '/home/vislab/dolearn-jimin-41/data/image_plt/Mel-Spectrogram_example_plt268.png',\n",
       " '/home/vislab/dolearn-jimin-41/data/image_plt/Mel-Spectrogram_example_plt269.png',\n",
       " '/home/vislab/dolearn-jimin-41/data/image_plt/Mel-Spectrogram_example_plt270.png',\n",
       " '/home/vislab/dolearn-jimin-41/data/image_plt/Mel-Spectrogram_example_plt271.png',\n",
       " '/home/vislab/dolearn-jimin-41/data/image_plt/Mel-Spectrogram_example_plt272.png',\n",
       " '/home/vislab/dolearn-jimin-41/data/image_plt/Mel-Spectrogram_example_plt273.png',\n",
       " '/home/vislab/dolearn-jimin-41/data/image_plt/Mel-Spectrogram_example_plt274.png',\n",
       " '/home/vislab/dolearn-jimin-41/data/image_plt/Mel-Spectrogram_example_plt275.png',\n",
       " '/home/vislab/dolearn-jimin-41/data/image_plt/Mel-Spectrogram_example_plt276.png',\n",
       " '/home/vislab/dolearn-jimin-41/data/image_plt/Mel-Spectrogram_example_plt277.png',\n",
       " '/home/vislab/dolearn-jimin-41/data/image_plt/Mel-Spectrogram_example_plt278.png',\n",
       " '/home/vislab/dolearn-jimin-41/data/image_plt/Mel-Spectrogram_example_plt279.png',\n",
       " '/home/vislab/dolearn-jimin-41/data/image_plt/Mel-Spectrogram_example_plt280.png',\n",
       " '/home/vislab/dolearn-jimin-41/data/image_plt/Mel-Spectrogram_example_plt281.png',\n",
       " '/home/vislab/dolearn-jimin-41/data/image_plt/Mel-Spectrogram_example_plt282.png',\n",
       " '/home/vislab/dolearn-jimin-41/data/image_plt/Mel-Spectrogram_example_plt283.png',\n",
       " '/home/vislab/dolearn-jimin-41/data/image_plt/Mel-Spectrogram_example_plt284.png',\n",
       " '/home/vislab/dolearn-jimin-41/data/image_plt/Mel-Spectrogram_example_plt285.png',\n",
       " '/home/vislab/dolearn-jimin-41/data/image_plt/Mel-Spectrogram_example_plt286.png',\n",
       " '/home/vislab/dolearn-jimin-41/data/image_plt/Mel-Spectrogram_example_plt287.png',\n",
       " '/home/vislab/dolearn-jimin-41/data/image_plt/Mel-Spectrogram_example_plt288.png',\n",
       " '/home/vislab/dolearn-jimin-41/data/image_plt/Mel-Spectrogram_example_plt289.png',\n",
       " '/home/vislab/dolearn-jimin-41/data/image_plt/Mel-Spectrogram_example_plt290.png',\n",
       " '/home/vislab/dolearn-jimin-41/data/image_plt/Mel-Spectrogram_example_plt291.png',\n",
       " '/home/vislab/dolearn-jimin-41/data/image_plt/Mel-Spectrogram_example_plt292.png',\n",
       " '/home/vislab/dolearn-jimin-41/data/image_plt/Mel-Spectrogram_example_plt293.png',\n",
       " '/home/vislab/dolearn-jimin-41/data/image_plt/Mel-Spectrogram_example_plt294.png',\n",
       " '/home/vislab/dolearn-jimin-41/data/image_plt/Mel-Spectrogram_example_plt295.png',\n",
       " '/home/vislab/dolearn-jimin-41/data/image_plt/Mel-Spectrogram_example_plt296.png',\n",
       " '/home/vislab/dolearn-jimin-41/data/image_plt/Mel-Spectrogram_example_plt297.png',\n",
       " '/home/vislab/dolearn-jimin-41/data/image_plt/Mel-Spectrogram_example_plt298.png',\n",
       " '/home/vislab/dolearn-jimin-41/data/image_plt/Mel-Spectrogram_example_plt299.png',\n",
       " '/home/vislab/dolearn-jimin-41/data/image_plt/Mel-Spectrogram_example_plt300.png',\n",
       " '/home/vislab/dolearn-jimin-41/data/image_plt/Mel-Spectrogram_example_plt301.png',\n",
       " '/home/vislab/dolearn-jimin-41/data/image_plt/Mel-Spectrogram_example_plt302.png',\n",
       " '/home/vislab/dolearn-jimin-41/data/image_plt/Mel-Spectrogram_example_plt303.png',\n",
       " '/home/vislab/dolearn-jimin-41/data/image_plt/Mel-Spectrogram_example_plt304.png',\n",
       " '/home/vislab/dolearn-jimin-41/data/image_plt/Mel-Spectrogram_example_plt305.png',\n",
       " '/home/vislab/dolearn-jimin-41/data/image_plt/Mel-Spectrogram_example_plt306.png',\n",
       " '/home/vislab/dolearn-jimin-41/data/image_plt/Mel-Spectrogram_example_plt307.png',\n",
       " '/home/vislab/dolearn-jimin-41/data/image_plt/Mel-Spectrogram_example_plt308.png',\n",
       " '/home/vislab/dolearn-jimin-41/data/image_plt/Mel-Spectrogram_example_plt309.png',\n",
       " '/home/vislab/dolearn-jimin-41/data/image_plt/Mel-Spectrogram_example_plt310.png',\n",
       " '/home/vislab/dolearn-jimin-41/data/image_plt/Mel-Spectrogram_example_plt311.png',\n",
       " '/home/vislab/dolearn-jimin-41/data/image_plt/Mel-Spectrogram_example_plt312.png',\n",
       " '/home/vislab/dolearn-jimin-41/data/image_plt/Mel-Spectrogram_example_plt313.png',\n",
       " '/home/vislab/dolearn-jimin-41/data/image_plt/Mel-Spectrogram_example_plt314.png',\n",
       " '/home/vislab/dolearn-jimin-41/data/image_plt/Mel-Spectrogram_example_plt315.png',\n",
       " '/home/vislab/dolearn-jimin-41/data/image_plt/Mel-Spectrogram_example_plt316.png',\n",
       " '/home/vislab/dolearn-jimin-41/data/image_plt/Mel-Spectrogram_example_plt317.png',\n",
       " '/home/vislab/dolearn-jimin-41/data/image_plt/Mel-Spectrogram_example_plt318.png',\n",
       " '/home/vislab/dolearn-jimin-41/data/image_plt/Mel-Spectrogram_example_plt319.png',\n",
       " '/home/vislab/dolearn-jimin-41/data/image_plt/Mel-Spectrogram_example_plt320.png',\n",
       " '/home/vislab/dolearn-jimin-41/data/image_plt/Mel-Spectrogram_example_plt321.png',\n",
       " '/home/vislab/dolearn-jimin-41/data/image_plt/Mel-Spectrogram_example_plt322.png',\n",
       " '/home/vislab/dolearn-jimin-41/data/image_plt/Mel-Spectrogram_example_plt323.png',\n",
       " '/home/vislab/dolearn-jimin-41/data/image_plt/Mel-Spectrogram_example_plt324.png',\n",
       " '/home/vislab/dolearn-jimin-41/data/image_plt/Mel-Spectrogram_example_plt325.png',\n",
       " '/home/vislab/dolearn-jimin-41/data/image_plt/Mel-Spectrogram_example_plt326.png',\n",
       " '/home/vislab/dolearn-jimin-41/data/image_plt/Mel-Spectrogram_example_plt327.png',\n",
       " '/home/vislab/dolearn-jimin-41/data/image_plt/Mel-Spectrogram_example_plt328.png',\n",
       " '/home/vislab/dolearn-jimin-41/data/image_plt/Mel-Spectrogram_example_plt329.png',\n",
       " '/home/vislab/dolearn-jimin-41/data/image_plt/Mel-Spectrogram_example_plt330.png',\n",
       " '/home/vislab/dolearn-jimin-41/data/image_plt/Mel-Spectrogram_example_plt331.png']"
      ]
     },
     "execution_count": 2,
     "metadata": {},
     "output_type": "execute_result"
    }
   ],
   "source": [
    "images = sorted(glob.glob('/home/vislab/dolearn-jimin-41/data/image_plt/Mel-Spectrogram_example_plt*.png'))\n",
    "images"
   ]
  },
  {
   "cell_type": "code",
   "execution_count": 3,
   "metadata": {},
   "outputs": [],
   "source": [
    "mel_images=[]\n",
    "for fname in images:\n",
    "    image_pil = Image.open(fname).convert('L')\n",
    "    image_bw = np.array(image_pil)\n",
    "    mel_images.append(image_bw)\n",
    "\n",
    "    #plt.imshow(image_bw)\n",
    "    #plt.show()\n",
    "\n",
    "mel_images=np.array(mel_images)"
   ]
  },
  {
   "cell_type": "code",
   "execution_count": 4,
   "metadata": {},
   "outputs": [
    {
     "data": {
      "text/plain": [
       "<matplotlib.image.AxesImage at 0x7f54d4fd62b0>"
      ]
     },
     "execution_count": 4,
     "metadata": {},
     "output_type": "execute_result"
    },
    {
     "data": {
      "image/png": "[encoded data removed]",
      "text/plain": [
       "<Figure size 432x288 with 1 Axes>"
      ]
     },
     "metadata": {
      "needs_background": "light"
     },
     "output_type": "display_data"
    }
   ],
   "source": [
    "plt.imshow(mel_images[0])"
   ]
  },
  {
   "cell_type": "code",
   "execution_count": 5,
   "metadata": {},
   "outputs": [
    {
     "data": {
      "text/plain": [
       "(332, 128, 1876)"
      ]
     },
     "execution_count": 5,
     "metadata": {},
     "output_type": "execute_result"
    }
   ],
   "source": [
    "mel_images.shape"
   ]
  },
  {
   "cell_type": "code",
   "execution_count": 6,
   "metadata": {
    "id": "s7O0UuwzpdT1"
   },
   "outputs": [
    {
     "name": "stdout",
     "output_type": "stream",
     "text": [
      "(332, 1, 128, 1876)\n",
      "332 1 128 1876\n",
      "(332, 1, 128, 1876)\n"
     ]
    }
   ],
   "source": [
    "from sklearn.preprocessing import StandardScaler\n",
    "\n",
    "x_train = np.expand_dims(mel_images, 1) #DataNum, 1ch, H, W\n",
    "\n",
    "print(x_train.shape)\n",
    "scaler = StandardScaler()\n",
    "\n",
    "b,c,h,w = x_train.shape\n",
    "print(b,c,h,w)\n",
    "x_train = np.reshape(x_train, newshape=(b,-1))\n",
    "x_train = scaler.fit_transform(x_train)\n",
    "x_train = np.reshape(x_train, newshape=(b,c,h,w))\n",
    "#x_train = np.reshape(x_train, newshape=(b,h,w,c))\n",
    "\n",
    "print(x_train.shape)\n",
    "import joblib\n",
    "# 객체를 pickled binary file 형태로 저장한다\n",
    "#file_name = 'scaler.pkl'\n",
    "#joblib.dump(scaler, file_name)\n"
   ]
  },
  {
   "cell_type": "code",
   "execution_count": 7,
   "metadata": {},
   "outputs": [
    {
     "data": {
      "text/plain": [
       "array([0, 0, 0, 0, 0, 0, 0, 0, 0, 0, 0, 0, 0, 0, 0, 0, 0, 0, 0, 0, 0, 0,\n",
       "       0, 0, 0, 0, 0, 0, 0, 0, 0, 0, 0, 0, 0, 0, 0, 0, 0, 0, 0, 0, 0, 0,\n",
       "       0, 0, 0, 0, 0, 0, 0, 0, 0, 0, 0, 0, 0, 0, 0, 0, 0, 0, 0, 0, 0, 0,\n",
       "       0, 1, 1, 1, 1, 1, 1, 1, 1, 1, 1, 1, 1, 1, 1, 1, 1, 1, 1, 1, 1, 1,\n",
       "       1, 1, 1, 1, 1, 1, 1, 1, 1, 1, 1, 1, 1, 1, 1, 1, 1, 1, 1, 1, 1, 1,\n",
       "       1, 1, 1, 1, 1, 1, 1, 1, 1, 1, 1, 1, 1, 1, 1, 1, 1, 1, 1, 1, 1, 1,\n",
       "       1, 1, 1, 1, 1, 1, 1, 1, 1, 1, 1, 1, 1, 1, 1, 1, 1, 1, 1, 1, 1, 1,\n",
       "       1, 1, 1, 1, 1, 1, 1, 1, 1, 1, 1, 1, 1, 1, 1, 1, 1, 1, 1, 1, 1, 1,\n",
       "       1, 1, 1, 1, 1, 1, 1, 1, 1, 1, 1, 1, 1, 1, 1, 1, 1, 1, 1, 1, 1, 1,\n",
       "       1, 0, 0, 0, 0, 0, 0, 0, 0, 0, 0, 0, 0, 0, 0, 0, 0, 0, 0, 0, 0, 0,\n",
       "       0, 0, 0, 0, 0, 0, 0, 0, 0, 0, 0, 0, 0, 0, 0, 0, 0, 0, 0, 0, 0, 0,\n",
       "       0, 0, 0, 0, 0, 0, 0, 0, 0, 0, 0, 0, 0, 0, 0, 0, 0, 0, 0, 0, 0, 0,\n",
       "       0, 0, 0, 0, 0, 0, 0, 0, 0, 0, 0, 0, 0, 0, 0, 0, 0, 0, 0, 0, 0, 0,\n",
       "       0, 0, 0, 0, 0, 0, 0, 0, 0, 0, 0, 0, 0, 0, 0, 0, 0, 0, 0, 0, 0, 0,\n",
       "       0, 0, 0, 0, 0, 0, 0, 0, 0, 0, 0, 0, 0, 0, 0, 0, 0, 0, 0, 0, 0, 0,\n",
       "       0, 0])"
      ]
     },
     "execution_count": 7,
     "metadata": {},
     "output_type": "execute_result"
    }
   ],
   "source": [
    "y_data_label=np.array(pd.read_csv('/home/vislab/dolearn-jimin-41/data/y_data_label.csv')['0'])\n",
    "y_data_label"
   ]
  },
  {
   "cell_type": "code",
   "execution_count": 8,
   "metadata": {
    "id": "T7QiPqa6pjpE"
   },
   "outputs": [],
   "source": [
    "x_train, x_test, y_train, y_test = train_test_split(x_train, y_data_label, test_size=0.33, random_state=42, stratify = y_data_label)"
   ]
  },
  {
   "cell_type": "code",
   "execution_count": 10,
   "metadata": {
    "id": "zyFe-CtRplpJ"
   },
   "outputs": [],
   "source": [
    "import random\n",
    "\n",
    "random.seed(1)\n",
    "\n",
    "x_train = x_train.astype('float')\n",
    "x_test = x_test.astype('float')\n",
    "y_train = y_train.astype('int')\n",
    "y_test = y_test.astype('int')"
   ]
  },
  {
   "cell_type": "code",
   "execution_count": 11,
   "metadata": {
    "id": "o-QU3C585d39"
   },
   "outputs": [
    {
     "name": "stdout",
     "output_type": "stream",
     "text": [
      "(222, 1, 128, 1876)\n",
      "(110, 1, 128, 1876)\n",
      "(222,)\n",
      "(110,)\n"
     ]
    }
   ],
   "source": [
    "print(x_train.shape)\n",
    "print(x_test.shape)\n",
    "print(y_train.shape)\n",
    "print(y_test.shape)"
   ]
  },
  {
   "cell_type": "code",
   "execution_count": 17,
   "metadata": {
    "id": "gCjkVkIF3E97"
   },
   "outputs": [
    {
     "name": "stdout",
     "output_type": "stream",
     "text": [
      "cuda\n",
      "Number of trainable params:  101218\n"
     ]
    }
   ],
   "source": [
    "import torch\n",
    "import torch.nn as nn\n",
    "\n",
    "seed = 1\n",
    "np.random.seed(seed)\n",
    "torch.manual_seed(seed)\n",
    "torch.cuda.manual_seed_all(seed)\n",
    "device = torch.device(\"cuda\" if torch.cuda.is_available() else \"cpu\")\n",
    "print(device)\n",
    "\n",
    "class ParallelModel(nn.Module):\n",
    "    def __init__(self,num_emotions):\n",
    "        super().__init__()\n",
    "\n",
    "            # 1. conv block\n",
    "        self.relu = nn.ReLU()\n",
    "        self.conv1= nn.Conv2d(in_channels=1,\n",
    "                   out_channels=16,\n",
    "                   kernel_size=3,\n",
    "                   stride=1,\n",
    "                   padding=1\n",
    "                  )\n",
    "        \n",
    "     \n",
    "        self.bn1 = nn.BatchNorm2d(16)\n",
    "\n",
    "        self.mp1 = nn.MaxPool2d(kernel_size=2, stride=2)\n",
    "        self.do = nn.Dropout2d(p=0.3)\n",
    "        # 2. conv block\n",
    "        self.conv2= nn.Conv2d(in_channels=16,\n",
    "                   out_channels=32,\n",
    "                   kernel_size=3,\n",
    "                   stride=1,\n",
    "                   padding=1\n",
    "                  )\n",
    "        self.bn2 = nn.BatchNorm2d(32)\n",
    "        self.mp2 = nn.MaxPool2d(kernel_size=4, stride=4)\n",
    "\n",
    "        # 3. conv block\n",
    "        self.conv3 = nn.Conv2d(in_channels=32,\n",
    "                   out_channels=64,\n",
    "                   kernel_size=3,\n",
    "                   stride=1,\n",
    "                   padding=1\n",
    "                  )\n",
    "        self.bn3 = nn.BatchNorm2d(64)\n",
    "\n",
    "        # 4. conv block\n",
    "        self.conv4= nn.Conv2d(in_channels=64,\n",
    "                   out_channels=128,\n",
    "                   kernel_size=3,\n",
    "                   stride=1,\n",
    "                   padding=1\n",
    "                  )\n",
    "        self.bn4= nn.BatchNorm2d(128)\n",
    "\n",
    "        # Linear softmax layer\n",
    "        self.out_linear = nn.Linear(1792,num_emotions)\n",
    "        self.out_softmax = nn.Softmax(dim=1)\n",
    "        \n",
    "    def forward(self,x):\n",
    "\n",
    "        # transformer embedding\n",
    "        out = self.relu(self.bn1(self.conv1(x)))\n",
    "        out = self.do(self.mp1(out))\n",
    "        out = self.relu(self.bn2(self.conv2(out)))\n",
    "        out = self.do(self.mp2(out))\n",
    "        out = self.relu(self.bn3(self.conv3(out)))\n",
    "        out = self.do(self.mp2(out))\n",
    "        out = self.relu(self.bn4(self.conv4(out)))\n",
    "        out = self.do(self.mp2(out))\n",
    "\n",
    "\n",
    "        conv_embedding = torch.flatten(out, start_dim=1)\n",
    "\n",
    "        output_logits = self.out_linear(conv_embedding)\n",
    "        output_softmax = self.out_softmax(output_logits)\n",
    "        return output_logits, output_softmax  \n",
    "    \n",
    "    \n",
    "model = ParallelModel(num_emotions=2).to(device)\n",
    "print('Number of trainable params: ',sum(p.numel() for p in model.parameters()) )\n"
   ]
  },
  {
   "cell_type": "code",
   "execution_count": 21,
   "metadata": {
    "id": "5eUSfW1H3i6W"
   },
   "outputs": [],
   "source": [
    "EPOCHS=25\n",
    "DATASET_SIZE = x_train.shape[0]\n",
    "BATCH_SIZE = 8\n",
    "\n",
    "##baseline에서 사용한 optimizer는 SGD이며 하이퍼파라미터는 다음과 같습니다.\n",
    "##Learning rate = 0.01, momentum=0.9\n",
    "OPTIMIZER = torch.optim.SGD(model.parameters(),lr=0.01, momentum=0.9)"
   ]
  },
  {
   "cell_type": "code",
   "execution_count": 22,
   "metadata": {
    "id": "scE71DHw3mYw"
   },
   "outputs": [],
   "source": [
    "def loss_fnc(predictions, targets):\n",
    "    return nn.CrossEntropyLoss()(input=predictions,target=targets)"
   ]
  },
  {
   "cell_type": "code",
   "execution_count": 23,
   "metadata": {
    "id": "Wk6d43eG3t4_",
    "scrolled": true
   },
   "outputs": [
    {
     "data": {
      "image/png": "[encoded data removed]",
      "text/plain": [
       "<Figure size 864x576 with 1 Axes>"
      ]
     },
     "metadata": {
      "needs_background": "light"
     },
     "output_type": "display_data"
    },
    {
     "name": "stdout",
     "output_type": "stream",
     "text": [
      "24 4.544771400105674e-06 1.0\n"
     ]
    }
   ],
   "source": [
    "from livelossplot import PlotLosses\n",
    "liveloss = PlotLosses()\n",
    "\n",
    "logs = {}\n",
    "train_predicts = []\n",
    "\n",
    "model.train()\n",
    "\n",
    "for epoch in range(EPOCHS):\n",
    "    # shuffle data\n",
    "    ind = np.random.permutation(DATASET_SIZE)\n",
    "\n",
    "    x_train = x_train[ind,:,:,:]\n",
    "    y_train = y_train[ind]\n",
    "\n",
    "    \n",
    "    #print(x_train.shape)\n",
    "    #print(y_train.shape)\n",
    "    \n",
    "    epoch_loss = 0\n",
    "    \n",
    "    iters = int(DATASET_SIZE / BATCH_SIZE)\n",
    "     \n",
    "    for i in range(iters):\n",
    "        ### indexing과정을 통해 작성된 Dataloader 코드\n",
    "        batch_start = i * BATCH_SIZE\n",
    "        batch_end = min(batch_start + BATCH_SIZE, DATASET_SIZE)\n",
    "        actual_batch_size = batch_end-batch_start\n",
    "        \n",
    "        x = x_train[batch_start:batch_end,:,:,:]\n",
    "        y = y_train[batch_start:batch_end]\n",
    "\n",
    "        #print(x.shape)\n",
    "        #print(y.shape)\n",
    "        \n",
    "        ###--------------------작성해야할 부분--------------------------------\n",
    "        ##1.train 데이터를 torch tensor로 타입 변경 및 gpu 설정\n",
    "        ##2.데이터를 모델의 입력으로 넣어 예측 후 loss 계산 및 optimization \n",
    "        x_tensor = torch.tensor(x,device=device).float()\n",
    "        y_tensor = torch.tensor(y, dtype=torch.long, device=device)\n",
    "\n",
    "        #print(x_tensor.shape)\n",
    "        #print(y_tensor.shape)\n",
    "        \n",
    "        # forward pass\n",
    "        print(x_tensor.shape)\n",
    "        output_logits, output_softmax = model(x_tensor)\n",
    "        \n",
    "        train_predictions = torch.argmax(output_softmax,dim=1).cpu().numpy()\n",
    "        train_predicts.append(train_predictions)\n",
    "\n",
    "        # compute loss\n",
    "        loss = loss_fnc(output_logits, y_tensor)\n",
    "        \n",
    "        # compute gradients\n",
    "        OPTIMIZER.zero_grad()\n",
    "        loss.backward()\n",
    "        # update parameters\n",
    "        OPTIMIZER.step()\n",
    "\n",
    "        epoch_loss += loss.item()*actual_batch_size/DATASET_SIZE\n",
    "\n",
    "    ###liveloss 함수를 사용하기 위한 코드들\n",
    "    logs['train_loss'] = epoch_loss\n",
    "        \n",
    "    liveloss.update(logs)\n",
    "    liveloss.draw()\n",
    "\n",
    "    print(epoch,loss.item(),accuracy_score(y, train_predictions))"
   ]
  },
  {
   "cell_type": "code",
   "execution_count": 27,
   "metadata": {},
   "outputs": [
    {
     "name": "stderr",
     "output_type": "stream",
     "text": [
      "100%|██████████| 110/110 [00:00<00:00, 647.88it/s]"
     ]
    },
    {
     "name": "stdout",
     "output_type": "stream",
     "text": [
      "predict_len:110\n"
     ]
    },
    {
     "name": "stderr",
     "output_type": "stream",
     "text": [
      "\n"
     ]
    }
   ],
   "source": [
    "model.eval()\n",
    "\n",
    "predicts = []\n",
    "\n",
    "with torch.no_grad():\n",
    "    for data in tqdm(x_test):\n",
    "        data = torch.FloatTensor(data).to(device).unsqueeze(1)\n",
    "\n",
    "        _ , output_softmax = model(data)\n",
    "        predictions = torch.argmax(output_softmax,dim=1).cpu().numpy()\n",
    "        predicts.append(predictions)\n",
    "\n",
    "print(f'predict_len:{len(predicts)}')"
   ]
  },
  {
   "cell_type": "code",
   "execution_count": 28,
   "metadata": {},
   "outputs": [
    {
     "name": "stdout",
     "output_type": "stream",
     "text": [
      "1.0\n"
     ]
    }
   ],
   "source": [
    "print(accuracy_score(y_test, predicts))"
   ]
  },
  {
   "cell_type": "code",
   "execution_count": 29,
   "metadata": {},
   "outputs": [
    {
     "data": {
      "text/plain": [
       "array([0, 0, 1, 1, 0, 1, 0, 1, 0, 0, 1, 0, 0, 0, 1, 1, 1, 1, 0, 0, 1, 0,\n",
       "       0, 1, 0, 0, 1, 0, 0, 0, 1, 1, 0, 0, 0, 0, 0, 1, 1, 0, 0, 0, 0, 0,\n",
       "       0, 1, 1, 1, 0, 0, 0, 0, 0, 1, 0, 0, 0, 1, 0, 1, 0, 0, 1, 1, 0, 1,\n",
       "       0, 0, 1, 1, 1, 0, 0, 0, 0, 1, 0, 0, 1, 0, 0, 1, 0, 0, 1, 1, 0, 1,\n",
       "       1, 0, 1, 0, 1, 0, 1, 0, 1, 1, 0, 0, 1, 0, 0, 0, 0, 1, 1, 1, 0, 0])"
      ]
     },
     "execution_count": 29,
     "metadata": {},
     "output_type": "execute_result"
    }
   ],
   "source": [
    "y_test"
   ]
  },
  {
   "cell_type": "code",
   "execution_count": null,
   "metadata": {},
   "outputs": [],
   "source": []
  }
 ],
 "metadata": {
  "accelerator": "GPU",
  "colab": {
   "name": "두런두런_만번만승_2.ipynb",
   "provenance": []
  },
  "kernelspec": {
   "display_name": "dolearn-gpu-41",
   "language": "python",
   "name": "dolearn-gpu-41"
  },
  "language_info": {
   "codemirror_mode": {
    "name": "ipython",
    "version": 3
   },
   "file_extension": ".py",
   "mimetype": "text/x-python",
   "name": "python",
   "nbconvert_exporter": "python",
   "pygments_lexer": "ipython3",
   "version": "3.6.13"
  }
 },
 "nbformat": 4,
 "nbformat_minor": 1
}

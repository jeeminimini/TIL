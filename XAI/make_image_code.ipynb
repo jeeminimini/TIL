{
 "cells": [
  {
   "cell_type": "code",
   "execution_count": 1,
   "metadata": {
    "id": "ujo2m15sonry"
   },
   "outputs": [],
   "source": [
    "import librosa, librosa.display \n",
    "import numpy as np\n",
    "import pandas as pd\n",
    "import glob\n",
    "from sklearn.model_selection import train_test_split\n",
    "from sklearn.metrics import accuracy_score\n",
    "import torch\n",
    "from PIL import Image\n",
    "import matplotlib.pyplot as plt\n",
    "from sklearn.preprocessing import MaxAbsScaler\n",
    "import cv2"
   ]
  },
  {
   "cell_type": "code",
   "execution_count": 2,
   "metadata": {
    "id": "OORv7lMlpR1u"
   },
   "outputs": [],
   "source": [
    "mel_list = []\n",
    "sound = sorted(glob.glob('/home/vislab/dolearn-jimin-41/data/audio/*.wav',recursive=True))\n"
   ]
  },
  {
   "cell_type": "code",
   "execution_count": 3,
   "metadata": {},
   "outputs": [
    {
     "data": {
      "text/plain": [
       "['/home/vislab/dolearn-jimin-41/data/audio/1.강제추행(성범죄)_105095_label.wav',\n",
       " '/home/vislab/dolearn-jimin-41/data/audio/1.강제추행(성범죄)_109734_label.wav',\n",
       " '/home/vislab/dolearn-jimin-41/data/audio/1.강제추행(성범죄)_112116_label.wav',\n",
       " '/home/vislab/dolearn-jimin-41/data/audio/1.강제추행(성범죄)_121567_label.wav',\n",
       " '/home/vislab/dolearn-jimin-41/data/audio/1.강제추행(성범죄)_128474_label.wav',\n",
       " '/home/vislab/dolearn-jimin-41/data/audio/1.강제추행(성범죄)_132358_label.wav',\n",
       " '/home/vislab/dolearn-jimin-41/data/audio/1.강제추행(성범죄)_133045_label.wav',\n",
       " '/home/vislab/dolearn-jimin-41/data/audio/1.강제추행(성범죄)_133763_label.wav',\n",
       " '/home/vislab/dolearn-jimin-41/data/audio/1.강제추행(성범죄)_134587_label.wav',\n",
       " '/home/vislab/dolearn-jimin-41/data/audio/1.강제추행(성범죄)_136487_label.wav',\n",
       " '/home/vislab/dolearn-jimin-41/data/audio/1.강제추행(성범죄)_137508_label.wav',\n",
       " '/home/vislab/dolearn-jimin-41/data/audio/1.강제추행(성범죄)_137863_label.wav',\n",
       " '/home/vislab/dolearn-jimin-41/data/audio/1.강제추행(성범죄)_138969_label.wav',\n",
       " '/home/vislab/dolearn-jimin-41/data/audio/1.강제추행(성범죄)_140332_label.wav',\n",
       " '/home/vislab/dolearn-jimin-41/data/audio/1.강제추행(성범죄)_140886_label.wav',\n",
       " '/home/vislab/dolearn-jimin-41/data/audio/1.강제추행(성범죄)_141332_label.wav',\n",
       " '/home/vislab/dolearn-jimin-41/data/audio/1.강제추행(성범죄)_142190_label.wav',\n",
       " '/home/vislab/dolearn-jimin-41/data/audio/1.강제추행(성범죄)_142306_label.wav',\n",
       " '/home/vislab/dolearn-jimin-41/data/audio/1.강제추행(성범죄)_142530_label.wav',\n",
       " '/home/vislab/dolearn-jimin-41/data/audio/1.강제추행(성범죄)_143449_label.wav',\n",
       " '/home/vislab/dolearn-jimin-41/data/audio/1.강제추행(성범죄)_143680_label.wav',\n",
       " '/home/vislab/dolearn-jimin-41/data/audio/1.강제추행(성범죄)_147629_label.wav',\n",
       " '/home/vislab/dolearn-jimin-41/data/audio/1.강제추행(성범죄)_147764_label.wav',\n",
       " '/home/vislab/dolearn-jimin-41/data/audio/1.강제추행(성범죄)_148378_label.wav',\n",
       " '/home/vislab/dolearn-jimin-41/data/audio/1.강제추행(성범죄)_148406_label.wav',\n",
       " '/home/vislab/dolearn-jimin-41/data/audio/1.강제추행(성범죄)_148448_label.wav',\n",
       " '/home/vislab/dolearn-jimin-41/data/audio/1.강제추행(성범죄)_148475_label.wav',\n",
       " '/home/vislab/dolearn-jimin-41/data/audio/1.강제추행(성범죄)_148518_label.wav',\n",
       " '/home/vislab/dolearn-jimin-41/data/audio/1.강제추행(성범죄)_148531_label.wav',\n",
       " '/home/vislab/dolearn-jimin-41/data/audio/1.강제추행(성범죄)_148545_label.wav',\n",
       " '/home/vislab/dolearn-jimin-41/data/audio/1.강제추행(성범죄)_18590_label.wav',\n",
       " '/home/vislab/dolearn-jimin-41/data/audio/1.강제추행(성범죄)_23770_label.wav',\n",
       " '/home/vislab/dolearn-jimin-41/data/audio/1.강제추행(성범죄)_27595_label.wav',\n",
       " '/home/vislab/dolearn-jimin-41/data/audio/1.강제추행(성범죄)_29631_label.wav',\n",
       " '/home/vislab/dolearn-jimin-41/data/audio/1.강제추행(성범죄)_32552_label.wav',\n",
       " '/home/vislab/dolearn-jimin-41/data/audio/1.강제추행(성범죄)_652422_label.wav',\n",
       " '/home/vislab/dolearn-jimin-41/data/audio/1.강제추행(성범죄)_652431_label.wav',\n",
       " '/home/vislab/dolearn-jimin-41/data/audio/1.강제추행(성범죄)_652434_label.wav',\n",
       " '/home/vislab/dolearn-jimin-41/data/audio/1.강제추행(성범죄)_652437_label.wav',\n",
       " '/home/vislab/dolearn-jimin-41/data/audio/1.강제추행(성범죄)_652441_label.wav',\n",
       " '/home/vislab/dolearn-jimin-41/data/audio/1.강제추행(성범죄)_652451_label.wav',\n",
       " '/home/vislab/dolearn-jimin-41/data/audio/1.강제추행(성범죄)_652455_label.wav',\n",
       " '/home/vislab/dolearn-jimin-41/data/audio/1.강제추행(성범죄)_652465_label.wav',\n",
       " '/home/vislab/dolearn-jimin-41/data/audio/1.강제추행(성범죄)_652481_label.wav',\n",
       " '/home/vislab/dolearn-jimin-41/data/audio/1.강제추행(성범죄)_652503_label.wav',\n",
       " '/home/vislab/dolearn-jimin-41/data/audio/1.강제추행(성범죄)_652524_label.wav',\n",
       " '/home/vislab/dolearn-jimin-41/data/audio/1.강제추행(성범죄)_652529_label.wav',\n",
       " '/home/vislab/dolearn-jimin-41/data/audio/1.강제추행(성범죄)_652553_label.wav',\n",
       " '/home/vislab/dolearn-jimin-41/data/audio/1.강제추행(성범죄)_652571_label.wav',\n",
       " '/home/vislab/dolearn-jimin-41/data/audio/1.강제추행(성범죄)_652583_label.wav',\n",
       " '/home/vislab/dolearn-jimin-41/data/audio/1.강제추행(성범죄)_652597_label.wav',\n",
       " '/home/vislab/dolearn-jimin-41/data/audio/1.강제추행(성범죄)_652599_label.wav',\n",
       " '/home/vislab/dolearn-jimin-41/data/audio/1.강제추행(성범죄)_652607_label.wav',\n",
       " '/home/vislab/dolearn-jimin-41/data/audio/1.강제추행(성범죄)_652614_label.wav',\n",
       " '/home/vislab/dolearn-jimin-41/data/audio/1.강제추행(성범죄)_652624_label.wav',\n",
       " '/home/vislab/dolearn-jimin-41/data/audio/1.강제추행(성범죄)_652636_label.wav',\n",
       " '/home/vislab/dolearn-jimin-41/data/audio/1.강제추행(성범죄)_652642_label.wav',\n",
       " '/home/vislab/dolearn-jimin-41/data/audio/1.강제추행(성범죄)_652657_label.wav',\n",
       " '/home/vislab/dolearn-jimin-41/data/audio/1.강제추행(성범죄)_652667_label.wav',\n",
       " '/home/vislab/dolearn-jimin-41/data/audio/1.강제추행(성범죄)_652673_label.wav',\n",
       " '/home/vislab/dolearn-jimin-41/data/audio/1.강제추행(성범죄)_652678_label.wav',\n",
       " '/home/vislab/dolearn-jimin-41/data/audio/1.강제추행(성범죄)_652688_label.wav',\n",
       " '/home/vislab/dolearn-jimin-41/data/audio/1.강제추행(성범죄)_652779_label.wav',\n",
       " '/home/vislab/dolearn-jimin-41/data/audio/1.강제추행(성범죄)_652800_label.wav',\n",
       " '/home/vislab/dolearn-jimin-41/data/audio/1.강제추행(성범죄)_652808_label.wav',\n",
       " '/home/vislab/dolearn-jimin-41/data/audio/1.강제추행(성범죄)_652814_label.wav',\n",
       " '/home/vislab/dolearn-jimin-41/data/audio/1.강제추행(성범죄)_652824_label.wav',\n",
       " '/home/vislab/dolearn-jimin-41/data/audio/17.실내_673584_label.wav',\n",
       " '/home/vislab/dolearn-jimin-41/data/audio/17.실내_675606_label.wav',\n",
       " '/home/vislab/dolearn-jimin-41/data/audio/17.실내_675796_label.wav',\n",
       " '/home/vislab/dolearn-jimin-41/data/audio/17.실내_675975_label.wav',\n",
       " '/home/vislab/dolearn-jimin-41/data/audio/17.실내_676104_label.wav',\n",
       " '/home/vislab/dolearn-jimin-41/data/audio/17.실내_676184_label.wav',\n",
       " '/home/vislab/dolearn-jimin-41/data/audio/17.실내_676445_label.wav',\n",
       " '/home/vislab/dolearn-jimin-41/data/audio/17.실내_677713_label.wav',\n",
       " '/home/vislab/dolearn-jimin-41/data/audio/17.실내_678727_label.wav',\n",
       " '/home/vislab/dolearn-jimin-41/data/audio/17.실내_678842_label.wav',\n",
       " '/home/vislab/dolearn-jimin-41/data/audio/17.실내_684228_label.wav',\n",
       " '/home/vislab/dolearn-jimin-41/data/audio/17.실내_688263_label.wav',\n",
       " '/home/vislab/dolearn-jimin-41/data/audio/17.실내_689007_label.wav',\n",
       " '/home/vislab/dolearn-jimin-41/data/audio/17.실내_894271_label.wav',\n",
       " '/home/vislab/dolearn-jimin-41/data/audio/17.실내_895694_label.wav',\n",
       " '/home/vislab/dolearn-jimin-41/data/audio/17.실내_896086_label.wav',\n",
       " '/home/vislab/dolearn-jimin-41/data/audio/17.실내_897599_label.wav',\n",
       " '/home/vislab/dolearn-jimin-41/data/audio/17.실내_897794_label.wav',\n",
       " '/home/vislab/dolearn-jimin-41/data/audio/17.실내_897880_label.wav',\n",
       " '/home/vislab/dolearn-jimin-41/data/audio/17.실내_898031_label.wav',\n",
       " '/home/vislab/dolearn-jimin-41/data/audio/17.실내_898045_label.wav',\n",
       " '/home/vislab/dolearn-jimin-41/data/audio/17.실내_898299_label.wav',\n",
       " '/home/vislab/dolearn-jimin-41/data/audio/17.실내_898385_label.wav',\n",
       " '/home/vislab/dolearn-jimin-41/data/audio/17.실내_898435_label.wav',\n",
       " '/home/vislab/dolearn-jimin-41/data/audio/17.실내_898444_label.wav',\n",
       " '/home/vislab/dolearn-jimin-41/data/audio/17.실내_898448_label.wav',\n",
       " '/home/vislab/dolearn-jimin-41/data/audio/17.실내_898452_label.wav',\n",
       " '/home/vislab/dolearn-jimin-41/data/audio/17.실내_898817_label.wav',\n",
       " '/home/vislab/dolearn-jimin-41/data/audio/17.실내_899063_label.wav',\n",
       " '/home/vislab/dolearn-jimin-41/data/audio/17.실내_899197_label.wav',\n",
       " '/home/vislab/dolearn-jimin-41/data/audio/17.실내_899875_label.wav',\n",
       " '/home/vislab/dolearn-jimin-41/data/audio/17.실내_899918_label.wav',\n",
       " '/home/vislab/dolearn-jimin-41/data/audio/17.실내_900370_label.wav',\n",
       " '/home/vislab/dolearn-jimin-41/data/audio/17.실내_904480_label.wav',\n",
       " '/home/vislab/dolearn-jimin-41/data/audio/17.실내_904580_label.wav',\n",
       " '/home/vislab/dolearn-jimin-41/data/audio/17.실내_904874_label.wav',\n",
       " '/home/vislab/dolearn-jimin-41/data/audio/17.실내_906843_label.wav',\n",
       " '/home/vislab/dolearn-jimin-41/data/audio/17.실내_906904_label.wav',\n",
       " '/home/vislab/dolearn-jimin-41/data/audio/17.실내_907217_label.wav',\n",
       " '/home/vislab/dolearn-jimin-41/data/audio/17.실내_907370_label.wav',\n",
       " '/home/vislab/dolearn-jimin-41/data/audio/17.실내_915445_label.wav',\n",
       " '/home/vislab/dolearn-jimin-41/data/audio/17.실내_915473_label.wav',\n",
       " '/home/vislab/dolearn-jimin-41/data/audio/17.실내_915501_label.wav',\n",
       " '/home/vislab/dolearn-jimin-41/data/audio/17.실내_915647_label.wav',\n",
       " '/home/vislab/dolearn-jimin-41/data/audio/17.실내_915705_label.wav',\n",
       " '/home/vislab/dolearn-jimin-41/data/audio/17.실내_915787_label.wav',\n",
       " '/home/vislab/dolearn-jimin-41/data/audio/17.실내_915822_label.wav',\n",
       " '/home/vislab/dolearn-jimin-41/data/audio/17.실내_915975_label.wav',\n",
       " '/home/vislab/dolearn-jimin-41/data/audio/17.실내_916094_label.wav',\n",
       " '/home/vislab/dolearn-jimin-41/data/audio/17.실내_916107_label.wav',\n",
       " '/home/vislab/dolearn-jimin-41/data/audio/17.실내_916131_label.wav',\n",
       " '/home/vislab/dolearn-jimin-41/data/audio/17.실내_916348_label.wav',\n",
       " '/home/vislab/dolearn-jimin-41/data/audio/17.실내_920995_label.wav',\n",
       " '/home/vislab/dolearn-jimin-41/data/audio/17.실내_923736_label.wav',\n",
       " '/home/vislab/dolearn-jimin-41/data/audio/17.실내_923768_label.wav',\n",
       " '/home/vislab/dolearn-jimin-41/data/audio/17.실내_923872_label.wav',\n",
       " '/home/vislab/dolearn-jimin-41/data/audio/17.실내_923901_label.wav',\n",
       " '/home/vislab/dolearn-jimin-41/data/audio/17.실내_923961_label.wav',\n",
       " '/home/vislab/dolearn-jimin-41/data/audio/17.실내_924050_label.wav',\n",
       " '/home/vislab/dolearn-jimin-41/data/audio/17.실내_924083_label.wav',\n",
       " '/home/vislab/dolearn-jimin-41/data/audio/17.실내_924131_label.wav',\n",
       " '/home/vislab/dolearn-jimin-41/data/audio/17.실내_924191_label.wav',\n",
       " '/home/vislab/dolearn-jimin-41/data/audio/17.실내_924280_label.wav',\n",
       " '/home/vislab/dolearn-jimin-41/data/audio/17.실내_924472_label.wav',\n",
       " '/home/vislab/dolearn-jimin-41/data/audio/17.실내_924791_label.wav',\n",
       " '/home/vislab/dolearn-jimin-41/data/audio/18.실외_532143_label.wav',\n",
       " '/home/vislab/dolearn-jimin-41/data/audio/18.실외_532295_label.wav',\n",
       " '/home/vislab/dolearn-jimin-41/data/audio/18.실외_545346_label.wav',\n",
       " '/home/vislab/dolearn-jimin-41/data/audio/18.실외_545683_label.wav',\n",
       " '/home/vislab/dolearn-jimin-41/data/audio/18.실외_545710_label.wav',\n",
       " '/home/vislab/dolearn-jimin-41/data/audio/18.실외_550483_label.wav',\n",
       " '/home/vislab/dolearn-jimin-41/data/audio/18.실외_550515_label.wav',\n",
       " '/home/vislab/dolearn-jimin-41/data/audio/18.실외_550542_label.wav',\n",
       " '/home/vislab/dolearn-jimin-41/data/audio/18.실외_560977_label.wav',\n",
       " '/home/vislab/dolearn-jimin-41/data/audio/18.실외_561099_label.wav',\n",
       " '/home/vislab/dolearn-jimin-41/data/audio/18.실외_655993_label.wav',\n",
       " '/home/vislab/dolearn-jimin-41/data/audio/18.실외_656102_label.wav',\n",
       " '/home/vislab/dolearn-jimin-41/data/audio/18.실외_656444_label.wav',\n",
       " '/home/vislab/dolearn-jimin-41/data/audio/18.실외_656719_label.wav',\n",
       " '/home/vislab/dolearn-jimin-41/data/audio/18.실외_656800_label.wav',\n",
       " '/home/vislab/dolearn-jimin-41/data/audio/18.실외_656950_label.wav',\n",
       " '/home/vislab/dolearn-jimin-41/data/audio/18.실외_657380_label.wav',\n",
       " '/home/vislab/dolearn-jimin-41/data/audio/18.실외_660468_label.wav',\n",
       " '/home/vislab/dolearn-jimin-41/data/audio/18.실외_660523_label.wav',\n",
       " '/home/vislab/dolearn-jimin-41/data/audio/18.실외_660558_label.wav',\n",
       " '/home/vislab/dolearn-jimin-41/data/audio/18.실외_660567_label.wav',\n",
       " '/home/vislab/dolearn-jimin-41/data/audio/18.실외_660601_label.wav',\n",
       " '/home/vislab/dolearn-jimin-41/data/audio/18.실외_660817_label.wav',\n",
       " '/home/vislab/dolearn-jimin-41/data/audio/18.실외_661103_label.wav',\n",
       " '/home/vislab/dolearn-jimin-41/data/audio/18.실외_661116_label.wav',\n",
       " '/home/vislab/dolearn-jimin-41/data/audio/18.실외_662181_label.wav',\n",
       " '/home/vislab/dolearn-jimin-41/data/audio/18.실외_662776_label.wav',\n",
       " '/home/vislab/dolearn-jimin-41/data/audio/18.실외_663828_label.wav',\n",
       " '/home/vislab/dolearn-jimin-41/data/audio/18.실외_664455_label.wav',\n",
       " '/home/vislab/dolearn-jimin-41/data/audio/18.실외_664527_label.wav',\n",
       " '/home/vislab/dolearn-jimin-41/data/audio/18.실외_673620_label.wav',\n",
       " '/home/vislab/dolearn-jimin-41/data/audio/18.실외_673712_label.wav',\n",
       " '/home/vislab/dolearn-jimin-41/data/audio/18.실외_673793_label.wav',\n",
       " '/home/vislab/dolearn-jimin-41/data/audio/18.실외_673909_label.wav',\n",
       " '/home/vislab/dolearn-jimin-41/data/audio/18.실외_674028_label.wav',\n",
       " '/home/vislab/dolearn-jimin-41/data/audio/18.실외_674713_label.wav',\n",
       " '/home/vislab/dolearn-jimin-41/data/audio/18.실외_674967_label.wav',\n",
       " '/home/vislab/dolearn-jimin-41/data/audio/18.실외_675636_label.wav',\n",
       " '/home/vislab/dolearn-jimin-41/data/audio/18.실외_675695_label.wav',\n",
       " '/home/vislab/dolearn-jimin-41/data/audio/18.실외_675843_label.wav',\n",
       " '/home/vislab/dolearn-jimin-41/data/audio/18.실외_675857_label.wav',\n",
       " '/home/vislab/dolearn-jimin-41/data/audio/18.실외_676459_label.wav',\n",
       " '/home/vislab/dolearn-jimin-41/data/audio/18.실외_676602_label.wav',\n",
       " '/home/vislab/dolearn-jimin-41/data/audio/18.실외_676993_label.wav',\n",
       " '/home/vislab/dolearn-jimin-41/data/audio/18.실외_677134_label.wav',\n",
       " '/home/vislab/dolearn-jimin-41/data/audio/18.실외_677315_label.wav',\n",
       " '/home/vislab/dolearn-jimin-41/data/audio/18.실외_677350_label.wav',\n",
       " '/home/vislab/dolearn-jimin-41/data/audio/18.실외_874756_label.wav',\n",
       " '/home/vislab/dolearn-jimin-41/data/audio/18.실외_874903_label.wav',\n",
       " '/home/vislab/dolearn-jimin-41/data/audio/18.실외_875021_label.wav',\n",
       " '/home/vislab/dolearn-jimin-41/data/audio/18.실외_875214_label.wav',\n",
       " '/home/vislab/dolearn-jimin-41/data/audio/18.실외_884439_label.wav',\n",
       " '/home/vislab/dolearn-jimin-41/data/audio/18.실외_884626_label.wav',\n",
       " '/home/vislab/dolearn-jimin-41/data/audio/18.실외_885702_label.wav',\n",
       " '/home/vislab/dolearn-jimin-41/data/audio/18.실외_885730_label.wav',\n",
       " '/home/vislab/dolearn-jimin-41/data/audio/18.실외_887302_label.wav',\n",
       " '/home/vislab/dolearn-jimin-41/data/audio/18.실외_891821_label.wav',\n",
       " '/home/vislab/dolearn-jimin-41/data/audio/18.실외_892023_label.wav',\n",
       " '/home/vislab/dolearn-jimin-41/data/audio/18.실외_892088_label.wav',\n",
       " '/home/vislab/dolearn-jimin-41/data/audio/18.실외_892742_label.wav',\n",
       " '/home/vislab/dolearn-jimin-41/data/audio/18.실외_892975_label.wav',\n",
       " '/home/vislab/dolearn-jimin-41/data/audio/18.실외_893530_label.wav',\n",
       " '/home/vislab/dolearn-jimin-41/data/audio/18.실외_893881_label.wav',\n",
       " '/home/vislab/dolearn-jimin-41/data/audio/18.실외_894744_label.wav',\n",
       " '/home/vislab/dolearn-jimin-41/data/audio/18.실외_895762_label.wav',\n",
       " '/home/vislab/dolearn-jimin-41/data/audio/18.실외_897028_label.wav',\n",
       " '/home/vislab/dolearn-jimin-41/data/audio/18.실외_919138_label.wav',\n",
       " '/home/vislab/dolearn-jimin-41/data/audio/2.강도범죄_352113_label.wav',\n",
       " '/home/vislab/dolearn-jimin-41/data/audio/2.강도범죄_352123_label.wav',\n",
       " '/home/vislab/dolearn-jimin-41/data/audio/2.강도범죄_352153_label.wav',\n",
       " '/home/vislab/dolearn-jimin-41/data/audio/2.강도범죄_352179_label.wav',\n",
       " '/home/vislab/dolearn-jimin-41/data/audio/2.강도범죄_352191_label.wav',\n",
       " '/home/vislab/dolearn-jimin-41/data/audio/2.강도범죄_352202_label.wav',\n",
       " '/home/vislab/dolearn-jimin-41/data/audio/2.강도범죄_352213_label.wav',\n",
       " '/home/vislab/dolearn-jimin-41/data/audio/2.강도범죄_352494_label.wav',\n",
       " '/home/vislab/dolearn-jimin-41/data/audio/2.강도범죄_352512_label.wav',\n",
       " '/home/vislab/dolearn-jimin-41/data/audio/2.강도범죄_352540_label.wav',\n",
       " '/home/vislab/dolearn-jimin-41/data/audio/2.강도범죄_352747_label.wav',\n",
       " '/home/vislab/dolearn-jimin-41/data/audio/2.강도범죄_382772_label.wav',\n",
       " '/home/vislab/dolearn-jimin-41/data/audio/2.강도범죄_382776_label.wav',\n",
       " '/home/vislab/dolearn-jimin-41/data/audio/2.강도범죄_382788_label.wav',\n",
       " '/home/vislab/dolearn-jimin-41/data/audio/2.강도범죄_382797_label.wav',\n",
       " '/home/vislab/dolearn-jimin-41/data/audio/2.강도범죄_382806_label.wav',\n",
       " '/home/vislab/dolearn-jimin-41/data/audio/2.강도범죄_382816_label.wav',\n",
       " '/home/vislab/dolearn-jimin-41/data/audio/2.강도범죄_382826_label.wav',\n",
       " '/home/vislab/dolearn-jimin-41/data/audio/2.강도범죄_382839_label.wav',\n",
       " '/home/vislab/dolearn-jimin-41/data/audio/2.강도범죄_382844_label.wav',\n",
       " '/home/vislab/dolearn-jimin-41/data/audio/2.강도범죄_382851_label.wav',\n",
       " '/home/vislab/dolearn-jimin-41/data/audio/2.강도범죄_382859_label.wav',\n",
       " '/home/vislab/dolearn-jimin-41/data/audio/2.강도범죄_382864_label.wav',\n",
       " '/home/vislab/dolearn-jimin-41/data/audio/2.강도범죄_382873_label.wav',\n",
       " '/home/vislab/dolearn-jimin-41/data/audio/2.강도범죄_382887_label.wav',\n",
       " '/home/vislab/dolearn-jimin-41/data/audio/2.강도범죄_382894_label.wav',\n",
       " '/home/vislab/dolearn-jimin-41/data/audio/2.강도범죄_382908_label.wav',\n",
       " '/home/vislab/dolearn-jimin-41/data/audio/2.강도범죄_382918_label.wav',\n",
       " '/home/vislab/dolearn-jimin-41/data/audio/2.강도범죄_382932_label.wav',\n",
       " '/home/vislab/dolearn-jimin-41/data/audio/2.강도범죄_382939_label.wav',\n",
       " '/home/vislab/dolearn-jimin-41/data/audio/2.강도범죄_382953_label.wav',\n",
       " '/home/vislab/dolearn-jimin-41/data/audio/2.강도범죄_382966_label.wav',\n",
       " '/home/vislab/dolearn-jimin-41/data/audio/2.강도범죄_382971_label.wav',\n",
       " '/home/vislab/dolearn-jimin-41/data/audio/2.강도범죄_382978_label.wav',\n",
       " '/home/vislab/dolearn-jimin-41/data/audio/2.강도범죄_382987_label.wav',\n",
       " '/home/vislab/dolearn-jimin-41/data/audio/2.강도범죄_385560_label.wav',\n",
       " '/home/vislab/dolearn-jimin-41/data/audio/2.강도범죄_385566_label.wav',\n",
       " '/home/vislab/dolearn-jimin-41/data/audio/2.강도범죄_385578_label.wav',\n",
       " '/home/vislab/dolearn-jimin-41/data/audio/2.강도범죄_385594_label.wav',\n",
       " '/home/vislab/dolearn-jimin-41/data/audio/2.강도범죄_385637_label.wav',\n",
       " '/home/vislab/dolearn-jimin-41/data/audio/2.강도범죄_385650_label.wav',\n",
       " '/home/vislab/dolearn-jimin-41/data/audio/2.강도범죄_385662_label.wav',\n",
       " '/home/vislab/dolearn-jimin-41/data/audio/2.강도범죄_385671_label.wav',\n",
       " '/home/vislab/dolearn-jimin-41/data/audio/2.강도범죄_385681_label.wav',\n",
       " '/home/vislab/dolearn-jimin-41/data/audio/2.강도범죄_385685_label.wav',\n",
       " '/home/vislab/dolearn-jimin-41/data/audio/2.강도범죄_385689_label.wav',\n",
       " '/home/vislab/dolearn-jimin-41/data/audio/2.강도범죄_434044_label.wav',\n",
       " '/home/vislab/dolearn-jimin-41/data/audio/2.강도범죄_434089_label.wav',\n",
       " '/home/vislab/dolearn-jimin-41/data/audio/2.강도범죄_434140_label.wav',\n",
       " '/home/vislab/dolearn-jimin-41/data/audio/2.강도범죄_434204_label.wav',\n",
       " '/home/vislab/dolearn-jimin-41/data/audio/2.강도범죄_434232_label.wav',\n",
       " '/home/vislab/dolearn-jimin-41/data/audio/2.강도범죄_434266_label.wav',\n",
       " '/home/vislab/dolearn-jimin-41/data/audio/2.강도범죄_434329_label.wav',\n",
       " '/home/vislab/dolearn-jimin-41/data/audio/2.강도범죄_434376_label.wav',\n",
       " '/home/vislab/dolearn-jimin-41/data/audio/2.강도범죄_652957_label.wav',\n",
       " '/home/vislab/dolearn-jimin-41/data/audio/2.강도범죄_652965_label.wav',\n",
       " '/home/vislab/dolearn-jimin-41/data/audio/2.강도범죄_652972_label.wav',\n",
       " '/home/vislab/dolearn-jimin-41/data/audio/2.강도범죄_653003_label.wav',\n",
       " '/home/vislab/dolearn-jimin-41/data/audio/2.강도범죄_653019_label.wav',\n",
       " '/home/vislab/dolearn-jimin-41/data/audio/2.강도범죄_653025_label.wav',\n",
       " '/home/vislab/dolearn-jimin-41/data/audio/2.강도범죄_653030_label.wav',\n",
       " '/home/vislab/dolearn-jimin-41/data/audio/2.강도범죄_653033_label.wav',\n",
       " '/home/vislab/dolearn-jimin-41/data/audio/2.강도범죄_653038_label.wav',\n",
       " '/home/vislab/dolearn-jimin-41/data/audio/2.강도범죄_653041_label.wav',\n",
       " '/home/vislab/dolearn-jimin-41/data/audio/2.강도범죄_653189_label.wav',\n",
       " '/home/vislab/dolearn-jimin-41/data/audio/2.강도범죄_653344_label.wav',\n",
       " '/home/vislab/dolearn-jimin-41/data/audio/2.강도범죄_653380_label.wav',\n",
       " '/home/vislab/dolearn-jimin-41/data/audio/3.절도범죄_270890_label.wav',\n",
       " '/home/vislab/dolearn-jimin-41/data/audio/3.절도범죄_272456_label.wav',\n",
       " '/home/vislab/dolearn-jimin-41/data/audio/3.절도범죄_274086_label.wav',\n",
       " '/home/vislab/dolearn-jimin-41/data/audio/3.절도범죄_275422_label.wav',\n",
       " '/home/vislab/dolearn-jimin-41/data/audio/3.절도범죄_277173_label.wav',\n",
       " '/home/vislab/dolearn-jimin-41/data/audio/3.절도범죄_278745_label.wav',\n",
       " '/home/vislab/dolearn-jimin-41/data/audio/3.절도범죄_280921_label.wav',\n",
       " '/home/vislab/dolearn-jimin-41/data/audio/3.절도범죄_283308_label.wav',\n",
       " '/home/vislab/dolearn-jimin-41/data/audio/3.절도범죄_284665_label.wav',\n",
       " '/home/vislab/dolearn-jimin-41/data/audio/3.절도범죄_45806_label.wav',\n",
       " '/home/vislab/dolearn-jimin-41/data/audio/3.절도범죄_46652_label.wav',\n",
       " '/home/vislab/dolearn-jimin-41/data/audio/3.절도범죄_46874_label.wav',\n",
       " '/home/vislab/dolearn-jimin-41/data/audio/3.절도범죄_48826_label.wav',\n",
       " '/home/vislab/dolearn-jimin-41/data/audio/3.절도범죄_563813_label.wav',\n",
       " '/home/vislab/dolearn-jimin-41/data/audio/3.절도범죄_564725_label.wav',\n",
       " '/home/vislab/dolearn-jimin-41/data/audio/3.절도범죄_566252_label.wav',\n",
       " '/home/vislab/dolearn-jimin-41/data/audio/3.절도범죄_567527_label.wav',\n",
       " '/home/vislab/dolearn-jimin-41/data/audio/3.절도범죄_568375_label.wav',\n",
       " '/home/vislab/dolearn-jimin-41/data/audio/3.절도범죄_569399_label.wav',\n",
       " '/home/vislab/dolearn-jimin-41/data/audio/3.절도범죄_570086_label.wav',\n",
       " '/home/vislab/dolearn-jimin-41/data/audio/3.절도범죄_570688_label.wav',\n",
       " '/home/vislab/dolearn-jimin-41/data/audio/3.절도범죄_571664_label.wav',\n",
       " '/home/vislab/dolearn-jimin-41/data/audio/3.절도범죄_571970_label.wav',\n",
       " '/home/vislab/dolearn-jimin-41/data/audio/3.절도범죄_589429_label.wav',\n",
       " '/home/vislab/dolearn-jimin-41/data/audio/3.절도범죄_589468_label.wav',\n",
       " '/home/vislab/dolearn-jimin-41/data/audio/3.절도범죄_589497_label.wav',\n",
       " '/home/vislab/dolearn-jimin-41/data/audio/3.절도범죄_589555_label.wav',\n",
       " '/home/vislab/dolearn-jimin-41/data/audio/3.절도범죄_589577_label.wav',\n",
       " '/home/vislab/dolearn-jimin-41/data/audio/3.절도범죄_589662_label.wav',\n",
       " '/home/vislab/dolearn-jimin-41/data/audio/3.절도범죄_589706_label.wav',\n",
       " '/home/vislab/dolearn-jimin-41/data/audio/3.절도범죄_605121_label.wav',\n",
       " '/home/vislab/dolearn-jimin-41/data/audio/3.절도범죄_605152_label.wav',\n",
       " '/home/vislab/dolearn-jimin-41/data/audio/3.절도범죄_605182_label.wav',\n",
       " '/home/vislab/dolearn-jimin-41/data/audio/3.절도범죄_605225_label.wav',\n",
       " '/home/vislab/dolearn-jimin-41/data/audio/3.절도범죄_605251_label.wav',\n",
       " '/home/vislab/dolearn-jimin-41/data/audio/3.절도범죄_605289_label.wav',\n",
       " '/home/vislab/dolearn-jimin-41/data/audio/3.절도범죄_605355_label.wav',\n",
       " '/home/vislab/dolearn-jimin-41/data/audio/3.절도범죄_605374_label.wav',\n",
       " '/home/vislab/dolearn-jimin-41/data/audio/3.절도범죄_605416_label.wav',\n",
       " '/home/vislab/dolearn-jimin-41/data/audio/3.절도범죄_605436_label.wav',\n",
       " '/home/vislab/dolearn-jimin-41/data/audio/3.절도범죄_605451_label.wav',\n",
       " '/home/vislab/dolearn-jimin-41/data/audio/3.절도범죄_605500_label.wav',\n",
       " '/home/vislab/dolearn-jimin-41/data/audio/3.절도범죄_605543_label.wav',\n",
       " '/home/vislab/dolearn-jimin-41/data/audio/3.절도범죄_605556_label.wav',\n",
       " '/home/vislab/dolearn-jimin-41/data/audio/3.절도범죄_605640_label.wav',\n",
       " '/home/vislab/dolearn-jimin-41/data/audio/3.절도범죄_605686_label.wav',\n",
       " '/home/vislab/dolearn-jimin-41/data/audio/3.절도범죄_605708_label.wav',\n",
       " '/home/vislab/dolearn-jimin-41/data/audio/3.절도범죄_605755_label.wav',\n",
       " '/home/vislab/dolearn-jimin-41/data/audio/3.절도범죄_605837_label.wav',\n",
       " '/home/vislab/dolearn-jimin-41/data/audio/3.절도범죄_605857_label.wav',\n",
       " '/home/vislab/dolearn-jimin-41/data/audio/3.절도범죄_605884_label.wav',\n",
       " '/home/vislab/dolearn-jimin-41/data/audio/3.절도범죄_605914_label.wav',\n",
       " '/home/vislab/dolearn-jimin-41/data/audio/3.절도범죄_605927_label.wav',\n",
       " '/home/vislab/dolearn-jimin-41/data/audio/3.절도범죄_605973_label.wav',\n",
       " '/home/vislab/dolearn-jimin-41/data/audio/3.절도범죄_605996_label.wav',\n",
       " '/home/vislab/dolearn-jimin-41/data/audio/3.절도범죄_606018_label.wav',\n",
       " '/home/vislab/dolearn-jimin-41/data/audio/3.절도범죄_653433_label.wav',\n",
       " '/home/vislab/dolearn-jimin-41/data/audio/3.절도범죄_653470_label.wav',\n",
       " '/home/vislab/dolearn-jimin-41/data/audio/3.절도범죄_653482_label.wav',\n",
       " '/home/vislab/dolearn-jimin-41/data/audio/3.절도범죄_653539_label.wav',\n",
       " '/home/vislab/dolearn-jimin-41/data/audio/3.절도범죄_653540_label.wav',\n",
       " '/home/vislab/dolearn-jimin-41/data/audio/3.절도범죄_653687_label.wav',\n",
       " '/home/vislab/dolearn-jimin-41/data/audio/3.절도범죄_653776_label.wav',\n",
       " '/home/vislab/dolearn-jimin-41/data/audio/3.절도범죄_653999_label.wav',\n",
       " '/home/vislab/dolearn-jimin-41/data/audio/3.절도범죄_654227_label.wav',\n",
       " '/home/vislab/dolearn-jimin-41/data/audio/3.절도범죄_654240_label.wav']"
      ]
     },
     "execution_count": 3,
     "metadata": {},
     "output_type": "execute_result"
    }
   ],
   "source": [
    "sound"
   ]
  },
  {
   "cell_type": "code",
   "execution_count": 4,
   "metadata": {
    "colab": {
     "base_uri": "https://localhost:8080/",
     "height": 1000
    },
    "id": "M1sSZzxPpbs8",
    "outputId": "2d3ea2b2-af05-4f99-8322-e291b7ca2d9e"
   },
   "outputs": [
    {
     "name": "stderr",
     "output_type": "stream",
     "text": [
      "/home/vislab/anaconda3/envs/dolearn-gpu-41/lib/python3.6/site-packages/ipykernel_launcher.py:21: RuntimeWarning: More than 20 figures have been opened. Figures created through the pyplot interface (`matplotlib.pyplot.figure`) are retained until explicitly closed and may consume too much memory. (To control this warning, see the rcParam `figure.max_open_warning`).\n"
     ]
    },
    {
     "data": {
      "text/plain": [
       "<Figure size 432x288 with 0 Axes>"
      ]
     },
     "metadata": {},
     "output_type": "display_data"
    },
    {
     "data": {
      "text/plain": [
       "<Figure size 432x288 with 0 Axes>"
      ]
     },
     "metadata": {},
     "output_type": "display_data"
    },
    {
     "data": {
      "text/plain": [
       "<Figure size 432x288 with 0 Axes>"
      ]
     },
     "metadata": {},
     "output_type": "display_data"
    },
    {
     "data": {
      "text/plain": [
       "<Figure size 432x288 with 0 Axes>"
      ]
     },
     "metadata": {},
     "output_type": "display_data"
    },
    {
     "data": {
      "text/plain": [
       "<Figure size 432x288 with 0 Axes>"
      ]
     },
     "metadata": {},
     "output_type": "display_data"
    },
    {
     "data": {
      "text/plain": [
       "<Figure size 432x288 with 0 Axes>"
      ]
     },
     "metadata": {},
     "output_type": "display_data"
    },
    {
     "data": {
      "text/plain": [
       "<Figure size 432x288 with 0 Axes>"
      ]
     },
     "metadata": {},
     "output_type": "display_data"
    },
    {
     "data": {
      "text/plain": [
       "<Figure size 432x288 with 0 Axes>"
      ]
     },
     "metadata": {},
     "output_type": "display_data"
    },
    {
     "data": {
      "text/plain": [
       "<Figure size 432x288 with 0 Axes>"
      ]
     },
     "metadata": {},
     "output_type": "display_data"
    },
    {
     "data": {
      "text/plain": [
       "<Figure size 432x288 with 0 Axes>"
      ]
     },
     "metadata": {},
     "output_type": "display_data"
    },
    {
     "data": {
      "text/plain": [
       "<Figure size 432x288 with 0 Axes>"
      ]
     },
     "metadata": {},
     "output_type": "display_data"
    },
    {
     "data": {
      "text/plain": [
       "<Figure size 432x288 with 0 Axes>"
      ]
     },
     "metadata": {},
     "output_type": "display_data"
    },
    {
     "data": {
      "text/plain": [
       "<Figure size 432x288 with 0 Axes>"
      ]
     },
     "metadata": {},
     "output_type": "display_data"
    },
    {
     "data": {
      "text/plain": [
       "<Figure size 432x288 with 0 Axes>"
      ]
     },
     "metadata": {},
     "output_type": "display_data"
    },
    {
     "data": {
      "text/plain": [
       "<Figure size 432x288 with 0 Axes>"
      ]
     },
     "metadata": {},
     "output_type": "display_data"
    },
    {
     "data": {
      "text/plain": [
       "<Figure size 432x288 with 0 Axes>"
      ]
     },
     "metadata": {},
     "output_type": "display_data"
    },
    {
     "data": {
      "text/plain": [
       "<Figure size 432x288 with 0 Axes>"
      ]
     },
     "metadata": {},
     "output_type": "display_data"
    },
    {
     "data": {
      "text/plain": [
       "<Figure size 432x288 with 0 Axes>"
      ]
     },
     "metadata": {},
     "output_type": "display_data"
    },
    {
     "data": {
      "text/plain": [
       "<Figure size 432x288 with 0 Axes>"
      ]
     },
     "metadata": {},
     "output_type": "display_data"
    },
    {
     "data": {
      "text/plain": [
       "<Figure size 432x288 with 0 Axes>"
      ]
     },
     "metadata": {},
     "output_type": "display_data"
    },
    {
     "data": {
      "text/plain": [
       "<Figure size 432x288 with 0 Axes>"
      ]
     },
     "metadata": {},
     "output_type": "display_data"
    },
    {
     "data": {
      "text/plain": [
       "<Figure size 432x288 with 0 Axes>"
      ]
     },
     "metadata": {},
     "output_type": "display_data"
    },
    {
     "data": {
      "text/plain": [
       "<Figure size 432x288 with 0 Axes>"
      ]
     },
     "metadata": {},
     "output_type": "display_data"
    },
    {
     "data": {
      "text/plain": [
       "<Figure size 432x288 with 0 Axes>"
      ]
     },
     "metadata": {},
     "output_type": "display_data"
    },
    {
     "data": {
      "text/plain": [
       "<Figure size 432x288 with 0 Axes>"
      ]
     },
     "metadata": {},
     "output_type": "display_data"
    },
    {
     "data": {
      "text/plain": [
       "<Figure size 432x288 with 0 Axes>"
      ]
     },
     "metadata": {},
     "output_type": "display_data"
    },
    {
     "data": {
      "text/plain": [
       "<Figure size 432x288 with 0 Axes>"
      ]
     },
     "metadata": {},
     "output_type": "display_data"
    },
    {
     "data": {
      "text/plain": [
       "<Figure size 432x288 with 0 Axes>"
      ]
     },
     "metadata": {},
     "output_type": "display_data"
    },
    {
     "data": {
      "text/plain": [
       "<Figure size 432x288 with 0 Axes>"
      ]
     },
     "metadata": {},
     "output_type": "display_data"
    },
    {
     "data": {
      "text/plain": [
       "<Figure size 432x288 with 0 Axes>"
      ]
     },
     "metadata": {},
     "output_type": "display_data"
    },
    {
     "data": {
      "text/plain": [
       "<Figure size 432x288 with 0 Axes>"
      ]
     },
     "metadata": {},
     "output_type": "display_data"
    },
    {
     "data": {
      "text/plain": [
       "<Figure size 432x288 with 0 Axes>"
      ]
     },
     "metadata": {},
     "output_type": "display_data"
    },
    {
     "data": {
      "text/plain": [
       "<Figure size 432x288 with 0 Axes>"
      ]
     },
     "metadata": {},
     "output_type": "display_data"
    },
    {
     "data": {
      "text/plain": [
       "<Figure size 432x288 with 0 Axes>"
      ]
     },
     "metadata": {},
     "output_type": "display_data"
    },
    {
     "data": {
      "text/plain": [
       "<Figure size 432x288 with 0 Axes>"
      ]
     },
     "metadata": {},
     "output_type": "display_data"
    },
    {
     "data": {
      "text/plain": [
       "<Figure size 432x288 with 0 Axes>"
      ]
     },
     "metadata": {},
     "output_type": "display_data"
    },
    {
     "data": {
      "text/plain": [
       "<Figure size 432x288 with 0 Axes>"
      ]
     },
     "metadata": {},
     "output_type": "display_data"
    },
    {
     "data": {
      "text/plain": [
       "<Figure size 432x288 with 0 Axes>"
      ]
     },
     "metadata": {},
     "output_type": "display_data"
    },
    {
     "data": {
      "text/plain": [
       "<Figure size 432x288 with 0 Axes>"
      ]
     },
     "metadata": {},
     "output_type": "display_data"
    },
    {
     "data": {
      "text/plain": [
       "<Figure size 432x288 with 0 Axes>"
      ]
     },
     "metadata": {},
     "output_type": "display_data"
    },
    {
     "data": {
      "text/plain": [
       "<Figure size 432x288 with 0 Axes>"
      ]
     },
     "metadata": {},
     "output_type": "display_data"
    },
    {
     "data": {
      "text/plain": [
       "<Figure size 432x288 with 0 Axes>"
      ]
     },
     "metadata": {},
     "output_type": "display_data"
    },
    {
     "data": {
      "text/plain": [
       "<Figure size 432x288 with 0 Axes>"
      ]
     },
     "metadata": {},
     "output_type": "display_data"
    },
    {
     "data": {
      "text/plain": [
       "<Figure size 432x288 with 0 Axes>"
      ]
     },
     "metadata": {},
     "output_type": "display_data"
    },
    {
     "data": {
      "text/plain": [
       "<Figure size 432x288 with 0 Axes>"
      ]
     },
     "metadata": {},
     "output_type": "display_data"
    },
    {
     "data": {
      "text/plain": [
       "<Figure size 432x288 with 0 Axes>"
      ]
     },
     "metadata": {},
     "output_type": "display_data"
    },
    {
     "data": {
      "text/plain": [
       "<Figure size 432x288 with 0 Axes>"
      ]
     },
     "metadata": {},
     "output_type": "display_data"
    },
    {
     "data": {
      "text/plain": [
       "<Figure size 432x288 with 0 Axes>"
      ]
     },
     "metadata": {},
     "output_type": "display_data"
    },
    {
     "data": {
      "text/plain": [
       "<Figure size 432x288 with 0 Axes>"
      ]
     },
     "metadata": {},
     "output_type": "display_data"
    },
    {
     "data": {
      "text/plain": [
       "<Figure size 432x288 with 0 Axes>"
      ]
     },
     "metadata": {},
     "output_type": "display_data"
    },
    {
     "data": {
      "text/plain": [
       "<Figure size 432x288 with 0 Axes>"
      ]
     },
     "metadata": {},
     "output_type": "display_data"
    },
    {
     "data": {
      "text/plain": [
       "<Figure size 432x288 with 0 Axes>"
      ]
     },
     "metadata": {},
     "output_type": "display_data"
    },
    {
     "data": {
      "text/plain": [
       "<Figure size 432x288 with 0 Axes>"
      ]
     },
     "metadata": {},
     "output_type": "display_data"
    },
    {
     "data": {
      "text/plain": [
       "<Figure size 432x288 with 0 Axes>"
      ]
     },
     "metadata": {},
     "output_type": "display_data"
    },
    {
     "data": {
      "text/plain": [
       "<Figure size 432x288 with 0 Axes>"
      ]
     },
     "metadata": {},
     "output_type": "display_data"
    },
    {
     "data": {
      "text/plain": [
       "<Figure size 432x288 with 0 Axes>"
      ]
     },
     "metadata": {},
     "output_type": "display_data"
    },
    {
     "data": {
      "text/plain": [
       "<Figure size 432x288 with 0 Axes>"
      ]
     },
     "metadata": {},
     "output_type": "display_data"
    },
    {
     "data": {
      "text/plain": [
       "<Figure size 432x288 with 0 Axes>"
      ]
     },
     "metadata": {},
     "output_type": "display_data"
    },
    {
     "data": {
      "text/plain": [
       "<Figure size 432x288 with 0 Axes>"
      ]
     },
     "metadata": {},
     "output_type": "display_data"
    },
    {
     "data": {
      "text/plain": [
       "<Figure size 432x288 with 0 Axes>"
      ]
     },
     "metadata": {},
     "output_type": "display_data"
    },
    {
     "data": {
      "text/plain": [
       "<Figure size 432x288 with 0 Axes>"
      ]
     },
     "metadata": {},
     "output_type": "display_data"
    },
    {
     "data": {
      "text/plain": [
       "<Figure size 432x288 with 0 Axes>"
      ]
     },
     "metadata": {},
     "output_type": "display_data"
    },
    {
     "data": {
      "text/plain": [
       "<Figure size 432x288 with 0 Axes>"
      ]
     },
     "metadata": {},
     "output_type": "display_data"
    },
    {
     "data": {
      "text/plain": [
       "<Figure size 432x288 with 0 Axes>"
      ]
     },
     "metadata": {},
     "output_type": "display_data"
    },
    {
     "data": {
      "text/plain": [
       "<Figure size 432x288 with 0 Axes>"
      ]
     },
     "metadata": {},
     "output_type": "display_data"
    },
    {
     "data": {
      "text/plain": [
       "<Figure size 432x288 with 0 Axes>"
      ]
     },
     "metadata": {},
     "output_type": "display_data"
    },
    {
     "data": {
      "text/plain": [
       "<Figure size 432x288 with 0 Axes>"
      ]
     },
     "metadata": {},
     "output_type": "display_data"
    },
    {
     "data": {
      "text/plain": [
       "<Figure size 432x288 with 0 Axes>"
      ]
     },
     "metadata": {},
     "output_type": "display_data"
    },
    {
     "data": {
      "text/plain": [
       "<Figure size 432x288 with 0 Axes>"
      ]
     },
     "metadata": {},
     "output_type": "display_data"
    },
    {
     "data": {
      "text/plain": [
       "<Figure size 432x288 with 0 Axes>"
      ]
     },
     "metadata": {},
     "output_type": "display_data"
    },
    {
     "data": {
      "text/plain": [
       "<Figure size 432x288 with 0 Axes>"
      ]
     },
     "metadata": {},
     "output_type": "display_data"
    },
    {
     "data": {
      "text/plain": [
       "<Figure size 432x288 with 0 Axes>"
      ]
     },
     "metadata": {},
     "output_type": "display_data"
    },
    {
     "data": {
      "text/plain": [
       "<Figure size 432x288 with 0 Axes>"
      ]
     },
     "metadata": {},
     "output_type": "display_data"
    },
    {
     "data": {
      "text/plain": [
       "<Figure size 432x288 with 0 Axes>"
      ]
     },
     "metadata": {},
     "output_type": "display_data"
    },
    {
     "data": {
      "text/plain": [
       "<Figure size 432x288 with 0 Axes>"
      ]
     },
     "metadata": {},
     "output_type": "display_data"
    },
    {
     "data": {
      "text/plain": [
       "<Figure size 432x288 with 0 Axes>"
      ]
     },
     "metadata": {},
     "output_type": "display_data"
    },
    {
     "data": {
      "text/plain": [
       "<Figure size 432x288 with 0 Axes>"
      ]
     },
     "metadata": {},
     "output_type": "display_data"
    },
    {
     "data": {
      "text/plain": [
       "<Figure size 432x288 with 0 Axes>"
      ]
     },
     "metadata": {},
     "output_type": "display_data"
    },
    {
     "data": {
      "text/plain": [
       "<Figure size 432x288 with 0 Axes>"
      ]
     },
     "metadata": {},
     "output_type": "display_data"
    },
    {
     "data": {
      "text/plain": [
       "<Figure size 432x288 with 0 Axes>"
      ]
     },
     "metadata": {},
     "output_type": "display_data"
    },
    {
     "data": {
      "text/plain": [
       "<Figure size 432x288 with 0 Axes>"
      ]
     },
     "metadata": {},
     "output_type": "display_data"
    },
    {
     "data": {
      "text/plain": [
       "<Figure size 432x288 with 0 Axes>"
      ]
     },
     "metadata": {},
     "output_type": "display_data"
    },
    {
     "data": {
      "text/plain": [
       "<Figure size 432x288 with 0 Axes>"
      ]
     },
     "metadata": {},
     "output_type": "display_data"
    },
    {
     "data": {
      "text/plain": [
       "<Figure size 432x288 with 0 Axes>"
      ]
     },
     "metadata": {},
     "output_type": "display_data"
    },
    {
     "data": {
      "text/plain": [
       "<Figure size 432x288 with 0 Axes>"
      ]
     },
     "metadata": {},
     "output_type": "display_data"
    },
    {
     "data": {
      "text/plain": [
       "<Figure size 432x288 with 0 Axes>"
      ]
     },
     "metadata": {},
     "output_type": "display_data"
    },
    {
     "data": {
      "text/plain": [
       "<Figure size 432x288 with 0 Axes>"
      ]
     },
     "metadata": {},
     "output_type": "display_data"
    },
    {
     "data": {
      "text/plain": [
       "<Figure size 432x288 with 0 Axes>"
      ]
     },
     "metadata": {},
     "output_type": "display_data"
    },
    {
     "data": {
      "text/plain": [
       "<Figure size 432x288 with 0 Axes>"
      ]
     },
     "metadata": {},
     "output_type": "display_data"
    },
    {
     "data": {
      "text/plain": [
       "<Figure size 432x288 with 0 Axes>"
      ]
     },
     "metadata": {},
     "output_type": "display_data"
    },
    {
     "data": {
      "text/plain": [
       "<Figure size 432x288 with 0 Axes>"
      ]
     },
     "metadata": {},
     "output_type": "display_data"
    },
    {
     "data": {
      "text/plain": [
       "<Figure size 432x288 with 0 Axes>"
      ]
     },
     "metadata": {},
     "output_type": "display_data"
    },
    {
     "data": {
      "text/plain": [
       "<Figure size 432x288 with 0 Axes>"
      ]
     },
     "metadata": {},
     "output_type": "display_data"
    },
    {
     "data": {
      "text/plain": [
       "<Figure size 432x288 with 0 Axes>"
      ]
     },
     "metadata": {},
     "output_type": "display_data"
    },
    {
     "data": {
      "text/plain": [
       "<Figure size 432x288 with 0 Axes>"
      ]
     },
     "metadata": {},
     "output_type": "display_data"
    },
    {
     "data": {
      "text/plain": [
       "<Figure size 432x288 with 0 Axes>"
      ]
     },
     "metadata": {},
     "output_type": "display_data"
    },
    {
     "data": {
      "text/plain": [
       "<Figure size 432x288 with 0 Axes>"
      ]
     },
     "metadata": {},
     "output_type": "display_data"
    },
    {
     "data": {
      "text/plain": [
       "<Figure size 432x288 with 0 Axes>"
      ]
     },
     "metadata": {},
     "output_type": "display_data"
    },
    {
     "data": {
      "text/plain": [
       "<Figure size 432x288 with 0 Axes>"
      ]
     },
     "metadata": {},
     "output_type": "display_data"
    },
    {
     "data": {
      "text/plain": [
       "<Figure size 432x288 with 0 Axes>"
      ]
     },
     "metadata": {},
     "output_type": "display_data"
    },
    {
     "data": {
      "text/plain": [
       "<Figure size 432x288 with 0 Axes>"
      ]
     },
     "metadata": {},
     "output_type": "display_data"
    },
    {
     "data": {
      "text/plain": [
       "<Figure size 432x288 with 0 Axes>"
      ]
     },
     "metadata": {},
     "output_type": "display_data"
    },
    {
     "data": {
      "text/plain": [
       "<Figure size 432x288 with 0 Axes>"
      ]
     },
     "metadata": {},
     "output_type": "display_data"
    },
    {
     "data": {
      "text/plain": [
       "<Figure size 432x288 with 0 Axes>"
      ]
     },
     "metadata": {},
     "output_type": "display_data"
    },
    {
     "data": {
      "text/plain": [
       "<Figure size 432x288 with 0 Axes>"
      ]
     },
     "metadata": {},
     "output_type": "display_data"
    },
    {
     "data": {
      "text/plain": [
       "<Figure size 432x288 with 0 Axes>"
      ]
     },
     "metadata": {},
     "output_type": "display_data"
    },
    {
     "data": {
      "text/plain": [
       "<Figure size 432x288 with 0 Axes>"
      ]
     },
     "metadata": {},
     "output_type": "display_data"
    },
    {
     "data": {
      "text/plain": [
       "<Figure size 432x288 with 0 Axes>"
      ]
     },
     "metadata": {},
     "output_type": "display_data"
    },
    {
     "data": {
      "text/plain": [
       "<Figure size 432x288 with 0 Axes>"
      ]
     },
     "metadata": {},
     "output_type": "display_data"
    },
    {
     "data": {
      "text/plain": [
       "<Figure size 432x288 with 0 Axes>"
      ]
     },
     "metadata": {},
     "output_type": "display_data"
    },
    {
     "data": {
      "text/plain": [
       "<Figure size 432x288 with 0 Axes>"
      ]
     },
     "metadata": {},
     "output_type": "display_data"
    },
    {
     "data": {
      "text/plain": [
       "<Figure size 432x288 with 0 Axes>"
      ]
     },
     "metadata": {},
     "output_type": "display_data"
    },
    {
     "data": {
      "text/plain": [
       "<Figure size 432x288 with 0 Axes>"
      ]
     },
     "metadata": {},
     "output_type": "display_data"
    },
    {
     "data": {
      "text/plain": [
       "<Figure size 432x288 with 0 Axes>"
      ]
     },
     "metadata": {},
     "output_type": "display_data"
    },
    {
     "data": {
      "text/plain": [
       "<Figure size 432x288 with 0 Axes>"
      ]
     },
     "metadata": {},
     "output_type": "display_data"
    },
    {
     "data": {
      "text/plain": [
       "<Figure size 432x288 with 0 Axes>"
      ]
     },
     "metadata": {},
     "output_type": "display_data"
    },
    {
     "data": {
      "text/plain": [
       "<Figure size 432x288 with 0 Axes>"
      ]
     },
     "metadata": {},
     "output_type": "display_data"
    },
    {
     "data": {
      "text/plain": [
       "<Figure size 432x288 with 0 Axes>"
      ]
     },
     "metadata": {},
     "output_type": "display_data"
    },
    {
     "data": {
      "text/plain": [
       "<Figure size 432x288 with 0 Axes>"
      ]
     },
     "metadata": {},
     "output_type": "display_data"
    },
    {
     "data": {
      "text/plain": [
       "<Figure size 432x288 with 0 Axes>"
      ]
     },
     "metadata": {},
     "output_type": "display_data"
    },
    {
     "data": {
      "text/plain": [
       "<Figure size 432x288 with 0 Axes>"
      ]
     },
     "metadata": {},
     "output_type": "display_data"
    },
    {
     "data": {
      "text/plain": [
       "<Figure size 432x288 with 0 Axes>"
      ]
     },
     "metadata": {},
     "output_type": "display_data"
    },
    {
     "data": {
      "text/plain": [
       "<Figure size 432x288 with 0 Axes>"
      ]
     },
     "metadata": {},
     "output_type": "display_data"
    },
    {
     "data": {
      "text/plain": [
       "<Figure size 432x288 with 0 Axes>"
      ]
     },
     "metadata": {},
     "output_type": "display_data"
    },
    {
     "data": {
      "text/plain": [
       "<Figure size 432x288 with 0 Axes>"
      ]
     },
     "metadata": {},
     "output_type": "display_data"
    },
    {
     "data": {
      "text/plain": [
       "<Figure size 432x288 with 0 Axes>"
      ]
     },
     "metadata": {},
     "output_type": "display_data"
    },
    {
     "data": {
      "text/plain": [
       "<Figure size 432x288 with 0 Axes>"
      ]
     },
     "metadata": {},
     "output_type": "display_data"
    },
    {
     "data": {
      "text/plain": [
       "<Figure size 432x288 with 0 Axes>"
      ]
     },
     "metadata": {},
     "output_type": "display_data"
    },
    {
     "data": {
      "text/plain": [
       "<Figure size 432x288 with 0 Axes>"
      ]
     },
     "metadata": {},
     "output_type": "display_data"
    },
    {
     "data": {
      "text/plain": [
       "<Figure size 432x288 with 0 Axes>"
      ]
     },
     "metadata": {},
     "output_type": "display_data"
    },
    {
     "data": {
      "text/plain": [
       "<Figure size 432x288 with 0 Axes>"
      ]
     },
     "metadata": {},
     "output_type": "display_data"
    },
    {
     "data": {
      "text/plain": [
       "<Figure size 432x288 with 0 Axes>"
      ]
     },
     "metadata": {},
     "output_type": "display_data"
    },
    {
     "data": {
      "text/plain": [
       "<Figure size 432x288 with 0 Axes>"
      ]
     },
     "metadata": {},
     "output_type": "display_data"
    },
    {
     "data": {
      "text/plain": [
       "<Figure size 432x288 with 0 Axes>"
      ]
     },
     "metadata": {},
     "output_type": "display_data"
    },
    {
     "data": {
      "text/plain": [
       "<Figure size 432x288 with 0 Axes>"
      ]
     },
     "metadata": {},
     "output_type": "display_data"
    },
    {
     "data": {
      "text/plain": [
       "<Figure size 432x288 with 0 Axes>"
      ]
     },
     "metadata": {},
     "output_type": "display_data"
    },
    {
     "data": {
      "text/plain": [
       "<Figure size 432x288 with 0 Axes>"
      ]
     },
     "metadata": {},
     "output_type": "display_data"
    },
    {
     "data": {
      "text/plain": [
       "<Figure size 432x288 with 0 Axes>"
      ]
     },
     "metadata": {},
     "output_type": "display_data"
    },
    {
     "data": {
      "text/plain": [
       "<Figure size 432x288 with 0 Axes>"
      ]
     },
     "metadata": {},
     "output_type": "display_data"
    },
    {
     "data": {
      "text/plain": [
       "<Figure size 432x288 with 0 Axes>"
      ]
     },
     "metadata": {},
     "output_type": "display_data"
    },
    {
     "data": {
      "text/plain": [
       "<Figure size 432x288 with 0 Axes>"
      ]
     },
     "metadata": {},
     "output_type": "display_data"
    },
    {
     "data": {
      "text/plain": [
       "<Figure size 432x288 with 0 Axes>"
      ]
     },
     "metadata": {},
     "output_type": "display_data"
    },
    {
     "data": {
      "text/plain": [
       "<Figure size 432x288 with 0 Axes>"
      ]
     },
     "metadata": {},
     "output_type": "display_data"
    },
    {
     "data": {
      "text/plain": [
       "<Figure size 432x288 with 0 Axes>"
      ]
     },
     "metadata": {},
     "output_type": "display_data"
    },
    {
     "data": {
      "text/plain": [
       "<Figure size 432x288 with 0 Axes>"
      ]
     },
     "metadata": {},
     "output_type": "display_data"
    },
    {
     "data": {
      "text/plain": [
       "<Figure size 432x288 with 0 Axes>"
      ]
     },
     "metadata": {},
     "output_type": "display_data"
    },
    {
     "data": {
      "text/plain": [
       "<Figure size 432x288 with 0 Axes>"
      ]
     },
     "metadata": {},
     "output_type": "display_data"
    },
    {
     "data": {
      "text/plain": [
       "<Figure size 432x288 with 0 Axes>"
      ]
     },
     "metadata": {},
     "output_type": "display_data"
    },
    {
     "data": {
      "text/plain": [
       "<Figure size 432x288 with 0 Axes>"
      ]
     },
     "metadata": {},
     "output_type": "display_data"
    },
    {
     "data": {
      "text/plain": [
       "<Figure size 432x288 with 0 Axes>"
      ]
     },
     "metadata": {},
     "output_type": "display_data"
    },
    {
     "data": {
      "text/plain": [
       "<Figure size 432x288 with 0 Axes>"
      ]
     },
     "metadata": {},
     "output_type": "display_data"
    },
    {
     "data": {
      "text/plain": [
       "<Figure size 432x288 with 0 Axes>"
      ]
     },
     "metadata": {},
     "output_type": "display_data"
    },
    {
     "data": {
      "text/plain": [
       "<Figure size 432x288 with 0 Axes>"
      ]
     },
     "metadata": {},
     "output_type": "display_data"
    },
    {
     "data": {
      "text/plain": [
       "<Figure size 432x288 with 0 Axes>"
      ]
     },
     "metadata": {},
     "output_type": "display_data"
    },
    {
     "data": {
      "text/plain": [
       "<Figure size 432x288 with 0 Axes>"
      ]
     },
     "metadata": {},
     "output_type": "display_data"
    },
    {
     "data": {
      "text/plain": [
       "<Figure size 432x288 with 0 Axes>"
      ]
     },
     "metadata": {},
     "output_type": "display_data"
    },
    {
     "data": {
      "text/plain": [
       "<Figure size 432x288 with 0 Axes>"
      ]
     },
     "metadata": {},
     "output_type": "display_data"
    },
    {
     "data": {
      "text/plain": [
       "<Figure size 432x288 with 0 Axes>"
      ]
     },
     "metadata": {},
     "output_type": "display_data"
    },
    {
     "data": {
      "text/plain": [
       "<Figure size 432x288 with 0 Axes>"
      ]
     },
     "metadata": {},
     "output_type": "display_data"
    },
    {
     "data": {
      "text/plain": [
       "<Figure size 432x288 with 0 Axes>"
      ]
     },
     "metadata": {},
     "output_type": "display_data"
    },
    {
     "data": {
      "text/plain": [
       "<Figure size 432x288 with 0 Axes>"
      ]
     },
     "metadata": {},
     "output_type": "display_data"
    },
    {
     "data": {
      "text/plain": [
       "<Figure size 432x288 with 0 Axes>"
      ]
     },
     "metadata": {},
     "output_type": "display_data"
    },
    {
     "data": {
      "text/plain": [
       "<Figure size 432x288 with 0 Axes>"
      ]
     },
     "metadata": {},
     "output_type": "display_data"
    },
    {
     "data": {
      "text/plain": [
       "<Figure size 432x288 with 0 Axes>"
      ]
     },
     "metadata": {},
     "output_type": "display_data"
    },
    {
     "data": {
      "text/plain": [
       "<Figure size 432x288 with 0 Axes>"
      ]
     },
     "metadata": {},
     "output_type": "display_data"
    },
    {
     "data": {
      "text/plain": [
       "<Figure size 432x288 with 0 Axes>"
      ]
     },
     "metadata": {},
     "output_type": "display_data"
    },
    {
     "data": {
      "text/plain": [
       "<Figure size 432x288 with 0 Axes>"
      ]
     },
     "metadata": {},
     "output_type": "display_data"
    },
    {
     "data": {
      "text/plain": [
       "<Figure size 432x288 with 0 Axes>"
      ]
     },
     "metadata": {},
     "output_type": "display_data"
    },
    {
     "data": {
      "text/plain": [
       "<Figure size 432x288 with 0 Axes>"
      ]
     },
     "metadata": {},
     "output_type": "display_data"
    },
    {
     "data": {
      "text/plain": [
       "<Figure size 432x288 with 0 Axes>"
      ]
     },
     "metadata": {},
     "output_type": "display_data"
    },
    {
     "data": {
      "text/plain": [
       "<Figure size 432x288 with 0 Axes>"
      ]
     },
     "metadata": {},
     "output_type": "display_data"
    },
    {
     "data": {
      "text/plain": [
       "<Figure size 432x288 with 0 Axes>"
      ]
     },
     "metadata": {},
     "output_type": "display_data"
    },
    {
     "data": {
      "text/plain": [
       "<Figure size 432x288 with 0 Axes>"
      ]
     },
     "metadata": {},
     "output_type": "display_data"
    },
    {
     "data": {
      "text/plain": [
       "<Figure size 432x288 with 0 Axes>"
      ]
     },
     "metadata": {},
     "output_type": "display_data"
    },
    {
     "data": {
      "text/plain": [
       "<Figure size 432x288 with 0 Axes>"
      ]
     },
     "metadata": {},
     "output_type": "display_data"
    },
    {
     "data": {
      "text/plain": [
       "<Figure size 432x288 with 0 Axes>"
      ]
     },
     "metadata": {},
     "output_type": "display_data"
    },
    {
     "data": {
      "text/plain": [
       "<Figure size 432x288 with 0 Axes>"
      ]
     },
     "metadata": {},
     "output_type": "display_data"
    },
    {
     "data": {
      "text/plain": [
       "<Figure size 432x288 with 0 Axes>"
      ]
     },
     "metadata": {},
     "output_type": "display_data"
    },
    {
     "data": {
      "text/plain": [
       "<Figure size 432x288 with 0 Axes>"
      ]
     },
     "metadata": {},
     "output_type": "display_data"
    },
    {
     "data": {
      "text/plain": [
       "<Figure size 432x288 with 0 Axes>"
      ]
     },
     "metadata": {},
     "output_type": "display_data"
    },
    {
     "data": {
      "text/plain": [
       "<Figure size 432x288 with 0 Axes>"
      ]
     },
     "metadata": {},
     "output_type": "display_data"
    },
    {
     "data": {
      "text/plain": [
       "<Figure size 432x288 with 0 Axes>"
      ]
     },
     "metadata": {},
     "output_type": "display_data"
    },
    {
     "data": {
      "text/plain": [
       "<Figure size 432x288 with 0 Axes>"
      ]
     },
     "metadata": {},
     "output_type": "display_data"
    },
    {
     "data": {
      "text/plain": [
       "<Figure size 432x288 with 0 Axes>"
      ]
     },
     "metadata": {},
     "output_type": "display_data"
    },
    {
     "data": {
      "text/plain": [
       "<Figure size 432x288 with 0 Axes>"
      ]
     },
     "metadata": {},
     "output_type": "display_data"
    },
    {
     "data": {
      "text/plain": [
       "<Figure size 432x288 with 0 Axes>"
      ]
     },
     "metadata": {},
     "output_type": "display_data"
    },
    {
     "data": {
      "text/plain": [
       "<Figure size 432x288 with 0 Axes>"
      ]
     },
     "metadata": {},
     "output_type": "display_data"
    },
    {
     "data": {
      "text/plain": [
       "<Figure size 432x288 with 0 Axes>"
      ]
     },
     "metadata": {},
     "output_type": "display_data"
    },
    {
     "data": {
      "text/plain": [
       "<Figure size 432x288 with 0 Axes>"
      ]
     },
     "metadata": {},
     "output_type": "display_data"
    },
    {
     "data": {
      "text/plain": [
       "<Figure size 432x288 with 0 Axes>"
      ]
     },
     "metadata": {},
     "output_type": "display_data"
    },
    {
     "data": {
      "text/plain": [
       "<Figure size 432x288 with 0 Axes>"
      ]
     },
     "metadata": {},
     "output_type": "display_data"
    },
    {
     "data": {
      "text/plain": [
       "<Figure size 432x288 with 0 Axes>"
      ]
     },
     "metadata": {},
     "output_type": "display_data"
    },
    {
     "data": {
      "text/plain": [
       "<Figure size 432x288 with 0 Axes>"
      ]
     },
     "metadata": {},
     "output_type": "display_data"
    },
    {
     "data": {
      "text/plain": [
       "<Figure size 432x288 with 0 Axes>"
      ]
     },
     "metadata": {},
     "output_type": "display_data"
    },
    {
     "data": {
      "text/plain": [
       "<Figure size 432x288 with 0 Axes>"
      ]
     },
     "metadata": {},
     "output_type": "display_data"
    },
    {
     "data": {
      "text/plain": [
       "<Figure size 432x288 with 0 Axes>"
      ]
     },
     "metadata": {},
     "output_type": "display_data"
    },
    {
     "data": {
      "text/plain": [
       "<Figure size 432x288 with 0 Axes>"
      ]
     },
     "metadata": {},
     "output_type": "display_data"
    },
    {
     "data": {
      "text/plain": [
       "<Figure size 432x288 with 0 Axes>"
      ]
     },
     "metadata": {},
     "output_type": "display_data"
    },
    {
     "data": {
      "text/plain": [
       "<Figure size 432x288 with 0 Axes>"
      ]
     },
     "metadata": {},
     "output_type": "display_data"
    },
    {
     "data": {
      "text/plain": [
       "<Figure size 432x288 with 0 Axes>"
      ]
     },
     "metadata": {},
     "output_type": "display_data"
    },
    {
     "data": {
      "text/plain": [
       "<Figure size 432x288 with 0 Axes>"
      ]
     },
     "metadata": {},
     "output_type": "display_data"
    },
    {
     "data": {
      "text/plain": [
       "<Figure size 432x288 with 0 Axes>"
      ]
     },
     "metadata": {},
     "output_type": "display_data"
    },
    {
     "data": {
      "text/plain": [
       "<Figure size 432x288 with 0 Axes>"
      ]
     },
     "metadata": {},
     "output_type": "display_data"
    },
    {
     "data": {
      "text/plain": [
       "<Figure size 432x288 with 0 Axes>"
      ]
     },
     "metadata": {},
     "output_type": "display_data"
    },
    {
     "data": {
      "text/plain": [
       "<Figure size 432x288 with 0 Axes>"
      ]
     },
     "metadata": {},
     "output_type": "display_data"
    },
    {
     "data": {
      "text/plain": [
       "<Figure size 432x288 with 0 Axes>"
      ]
     },
     "metadata": {},
     "output_type": "display_data"
    },
    {
     "data": {
      "text/plain": [
       "<Figure size 432x288 with 0 Axes>"
      ]
     },
     "metadata": {},
     "output_type": "display_data"
    },
    {
     "data": {
      "text/plain": [
       "<Figure size 432x288 with 0 Axes>"
      ]
     },
     "metadata": {},
     "output_type": "display_data"
    },
    {
     "data": {
      "text/plain": [
       "<Figure size 432x288 with 0 Axes>"
      ]
     },
     "metadata": {},
     "output_type": "display_data"
    },
    {
     "data": {
      "text/plain": [
       "<Figure size 432x288 with 0 Axes>"
      ]
     },
     "metadata": {},
     "output_type": "display_data"
    },
    {
     "data": {
      "text/plain": [
       "<Figure size 432x288 with 0 Axes>"
      ]
     },
     "metadata": {},
     "output_type": "display_data"
    },
    {
     "data": {
      "text/plain": [
       "<Figure size 432x288 with 0 Axes>"
      ]
     },
     "metadata": {},
     "output_type": "display_data"
    },
    {
     "data": {
      "text/plain": [
       "<Figure size 432x288 with 0 Axes>"
      ]
     },
     "metadata": {},
     "output_type": "display_data"
    },
    {
     "data": {
      "text/plain": [
       "<Figure size 432x288 with 0 Axes>"
      ]
     },
     "metadata": {},
     "output_type": "display_data"
    },
    {
     "data": {
      "text/plain": [
       "<Figure size 432x288 with 0 Axes>"
      ]
     },
     "metadata": {},
     "output_type": "display_data"
    },
    {
     "data": {
      "text/plain": [
       "<Figure size 432x288 with 0 Axes>"
      ]
     },
     "metadata": {},
     "output_type": "display_data"
    },
    {
     "data": {
      "text/plain": [
       "<Figure size 432x288 with 0 Axes>"
      ]
     },
     "metadata": {},
     "output_type": "display_data"
    },
    {
     "data": {
      "text/plain": [
       "<Figure size 432x288 with 0 Axes>"
      ]
     },
     "metadata": {},
     "output_type": "display_data"
    },
    {
     "data": {
      "text/plain": [
       "<Figure size 432x288 with 0 Axes>"
      ]
     },
     "metadata": {},
     "output_type": "display_data"
    },
    {
     "data": {
      "text/plain": [
       "<Figure size 432x288 with 0 Axes>"
      ]
     },
     "metadata": {},
     "output_type": "display_data"
    },
    {
     "data": {
      "text/plain": [
       "<Figure size 432x288 with 0 Axes>"
      ]
     },
     "metadata": {},
     "output_type": "display_data"
    },
    {
     "data": {
      "text/plain": [
       "<Figure size 432x288 with 0 Axes>"
      ]
     },
     "metadata": {},
     "output_type": "display_data"
    },
    {
     "data": {
      "text/plain": [
       "<Figure size 432x288 with 0 Axes>"
      ]
     },
     "metadata": {},
     "output_type": "display_data"
    },
    {
     "data": {
      "text/plain": [
       "<Figure size 432x288 with 0 Axes>"
      ]
     },
     "metadata": {},
     "output_type": "display_data"
    },
    {
     "data": {
      "text/plain": [
       "<Figure size 432x288 with 0 Axes>"
      ]
     },
     "metadata": {},
     "output_type": "display_data"
    },
    {
     "data": {
      "text/plain": [
       "<Figure size 432x288 with 0 Axes>"
      ]
     },
     "metadata": {},
     "output_type": "display_data"
    },
    {
     "data": {
      "text/plain": [
       "<Figure size 432x288 with 0 Axes>"
      ]
     },
     "metadata": {},
     "output_type": "display_data"
    },
    {
     "data": {
      "text/plain": [
       "<Figure size 432x288 with 0 Axes>"
      ]
     },
     "metadata": {},
     "output_type": "display_data"
    },
    {
     "data": {
      "text/plain": [
       "<Figure size 432x288 with 0 Axes>"
      ]
     },
     "metadata": {},
     "output_type": "display_data"
    },
    {
     "data": {
      "text/plain": [
       "<Figure size 432x288 with 0 Axes>"
      ]
     },
     "metadata": {},
     "output_type": "display_data"
    },
    {
     "data": {
      "text/plain": [
       "<Figure size 432x288 with 0 Axes>"
      ]
     },
     "metadata": {},
     "output_type": "display_data"
    },
    {
     "data": {
      "text/plain": [
       "<Figure size 432x288 with 0 Axes>"
      ]
     },
     "metadata": {},
     "output_type": "display_data"
    },
    {
     "data": {
      "text/plain": [
       "<Figure size 432x288 with 0 Axes>"
      ]
     },
     "metadata": {},
     "output_type": "display_data"
    },
    {
     "data": {
      "text/plain": [
       "<Figure size 432x288 with 0 Axes>"
      ]
     },
     "metadata": {},
     "output_type": "display_data"
    },
    {
     "data": {
      "text/plain": [
       "<Figure size 432x288 with 0 Axes>"
      ]
     },
     "metadata": {},
     "output_type": "display_data"
    },
    {
     "data": {
      "text/plain": [
       "<Figure size 432x288 with 0 Axes>"
      ]
     },
     "metadata": {},
     "output_type": "display_data"
    },
    {
     "data": {
      "text/plain": [
       "<Figure size 432x288 with 0 Axes>"
      ]
     },
     "metadata": {},
     "output_type": "display_data"
    },
    {
     "data": {
      "text/plain": [
       "<Figure size 432x288 with 0 Axes>"
      ]
     },
     "metadata": {},
     "output_type": "display_data"
    },
    {
     "data": {
      "text/plain": [
       "<Figure size 432x288 with 0 Axes>"
      ]
     },
     "metadata": {},
     "output_type": "display_data"
    },
    {
     "data": {
      "text/plain": [
       "<Figure size 432x288 with 0 Axes>"
      ]
     },
     "metadata": {},
     "output_type": "display_data"
    },
    {
     "data": {
      "text/plain": [
       "<Figure size 432x288 with 0 Axes>"
      ]
     },
     "metadata": {},
     "output_type": "display_data"
    },
    {
     "data": {
      "text/plain": [
       "<Figure size 432x288 with 0 Axes>"
      ]
     },
     "metadata": {},
     "output_type": "display_data"
    },
    {
     "data": {
      "text/plain": [
       "<Figure size 432x288 with 0 Axes>"
      ]
     },
     "metadata": {},
     "output_type": "display_data"
    },
    {
     "data": {
      "text/plain": [
       "<Figure size 432x288 with 0 Axes>"
      ]
     },
     "metadata": {},
     "output_type": "display_data"
    },
    {
     "data": {
      "text/plain": [
       "<Figure size 432x288 with 0 Axes>"
      ]
     },
     "metadata": {},
     "output_type": "display_data"
    },
    {
     "data": {
      "text/plain": [
       "<Figure size 432x288 with 0 Axes>"
      ]
     },
     "metadata": {},
     "output_type": "display_data"
    },
    {
     "data": {
      "text/plain": [
       "<Figure size 432x288 with 0 Axes>"
      ]
     },
     "metadata": {},
     "output_type": "display_data"
    },
    {
     "data": {
      "text/plain": [
       "<Figure size 432x288 with 0 Axes>"
      ]
     },
     "metadata": {},
     "output_type": "display_data"
    },
    {
     "data": {
      "text/plain": [
       "<Figure size 432x288 with 0 Axes>"
      ]
     },
     "metadata": {},
     "output_type": "display_data"
    },
    {
     "data": {
      "text/plain": [
       "<Figure size 432x288 with 0 Axes>"
      ]
     },
     "metadata": {},
     "output_type": "display_data"
    },
    {
     "data": {
      "text/plain": [
       "<Figure size 432x288 with 0 Axes>"
      ]
     },
     "metadata": {},
     "output_type": "display_data"
    },
    {
     "data": {
      "text/plain": [
       "<Figure size 432x288 with 0 Axes>"
      ]
     },
     "metadata": {},
     "output_type": "display_data"
    },
    {
     "data": {
      "text/plain": [
       "<Figure size 432x288 with 0 Axes>"
      ]
     },
     "metadata": {},
     "output_type": "display_data"
    },
    {
     "data": {
      "text/plain": [
       "<Figure size 432x288 with 0 Axes>"
      ]
     },
     "metadata": {},
     "output_type": "display_data"
    },
    {
     "data": {
      "text/plain": [
       "<Figure size 432x288 with 0 Axes>"
      ]
     },
     "metadata": {},
     "output_type": "display_data"
    },
    {
     "data": {
      "text/plain": [
       "<Figure size 432x288 with 0 Axes>"
      ]
     },
     "metadata": {},
     "output_type": "display_data"
    },
    {
     "data": {
      "text/plain": [
       "<Figure size 432x288 with 0 Axes>"
      ]
     },
     "metadata": {},
     "output_type": "display_data"
    },
    {
     "data": {
      "text/plain": [
       "<Figure size 432x288 with 0 Axes>"
      ]
     },
     "metadata": {},
     "output_type": "display_data"
    },
    {
     "data": {
      "text/plain": [
       "<Figure size 432x288 with 0 Axes>"
      ]
     },
     "metadata": {},
     "output_type": "display_data"
    },
    {
     "data": {
      "text/plain": [
       "<Figure size 432x288 with 0 Axes>"
      ]
     },
     "metadata": {},
     "output_type": "display_data"
    },
    {
     "data": {
      "text/plain": [
       "<Figure size 432x288 with 0 Axes>"
      ]
     },
     "metadata": {},
     "output_type": "display_data"
    },
    {
     "data": {
      "text/plain": [
       "<Figure size 432x288 with 0 Axes>"
      ]
     },
     "metadata": {},
     "output_type": "display_data"
    },
    {
     "data": {
      "text/plain": [
       "<Figure size 432x288 with 0 Axes>"
      ]
     },
     "metadata": {},
     "output_type": "display_data"
    },
    {
     "data": {
      "text/plain": [
       "<Figure size 432x288 with 0 Axes>"
      ]
     },
     "metadata": {},
     "output_type": "display_data"
    },
    {
     "data": {
      "text/plain": [
       "<Figure size 432x288 with 0 Axes>"
      ]
     },
     "metadata": {},
     "output_type": "display_data"
    },
    {
     "data": {
      "text/plain": [
       "<Figure size 432x288 with 0 Axes>"
      ]
     },
     "metadata": {},
     "output_type": "display_data"
    },
    {
     "data": {
      "text/plain": [
       "<Figure size 432x288 with 0 Axes>"
      ]
     },
     "metadata": {},
     "output_type": "display_data"
    },
    {
     "data": {
      "text/plain": [
       "<Figure size 432x288 with 0 Axes>"
      ]
     },
     "metadata": {},
     "output_type": "display_data"
    },
    {
     "data": {
      "text/plain": [
       "<Figure size 432x288 with 0 Axes>"
      ]
     },
     "metadata": {},
     "output_type": "display_data"
    },
    {
     "data": {
      "text/plain": [
       "<Figure size 432x288 with 0 Axes>"
      ]
     },
     "metadata": {},
     "output_type": "display_data"
    },
    {
     "data": {
      "text/plain": [
       "<Figure size 432x288 with 0 Axes>"
      ]
     },
     "metadata": {},
     "output_type": "display_data"
    },
    {
     "data": {
      "text/plain": [
       "<Figure size 432x288 with 0 Axes>"
      ]
     },
     "metadata": {},
     "output_type": "display_data"
    },
    {
     "data": {
      "text/plain": [
       "<Figure size 432x288 with 0 Axes>"
      ]
     },
     "metadata": {},
     "output_type": "display_data"
    },
    {
     "data": {
      "text/plain": [
       "<Figure size 432x288 with 0 Axes>"
      ]
     },
     "metadata": {},
     "output_type": "display_data"
    },
    {
     "data": {
      "text/plain": [
       "<Figure size 432x288 with 0 Axes>"
      ]
     },
     "metadata": {},
     "output_type": "display_data"
    },
    {
     "data": {
      "text/plain": [
       "<Figure size 432x288 with 0 Axes>"
      ]
     },
     "metadata": {},
     "output_type": "display_data"
    },
    {
     "data": {
      "text/plain": [
       "<Figure size 432x288 with 0 Axes>"
      ]
     },
     "metadata": {},
     "output_type": "display_data"
    },
    {
     "data": {
      "text/plain": [
       "<Figure size 432x288 with 0 Axes>"
      ]
     },
     "metadata": {},
     "output_type": "display_data"
    },
    {
     "data": {
      "text/plain": [
       "<Figure size 432x288 with 0 Axes>"
      ]
     },
     "metadata": {},
     "output_type": "display_data"
    },
    {
     "data": {
      "text/plain": [
       "<Figure size 432x288 with 0 Axes>"
      ]
     },
     "metadata": {},
     "output_type": "display_data"
    },
    {
     "data": {
      "text/plain": [
       "<Figure size 432x288 with 0 Axes>"
      ]
     },
     "metadata": {},
     "output_type": "display_data"
    },
    {
     "data": {
      "text/plain": [
       "<Figure size 432x288 with 0 Axes>"
      ]
     },
     "metadata": {},
     "output_type": "display_data"
    },
    {
     "data": {
      "text/plain": [
       "<Figure size 432x288 with 0 Axes>"
      ]
     },
     "metadata": {},
     "output_type": "display_data"
    },
    {
     "data": {
      "text/plain": [
       "<Figure size 432x288 with 0 Axes>"
      ]
     },
     "metadata": {},
     "output_type": "display_data"
    },
    {
     "data": {
      "text/plain": [
       "<Figure size 432x288 with 0 Axes>"
      ]
     },
     "metadata": {},
     "output_type": "display_data"
    },
    {
     "data": {
      "text/plain": [
       "<Figure size 432x288 with 0 Axes>"
      ]
     },
     "metadata": {},
     "output_type": "display_data"
    },
    {
     "data": {
      "text/plain": [
       "<Figure size 432x288 with 0 Axes>"
      ]
     },
     "metadata": {},
     "output_type": "display_data"
    },
    {
     "data": {
      "text/plain": [
       "<Figure size 432x288 with 0 Axes>"
      ]
     },
     "metadata": {},
     "output_type": "display_data"
    },
    {
     "data": {
      "text/plain": [
       "<Figure size 432x288 with 0 Axes>"
      ]
     },
     "metadata": {},
     "output_type": "display_data"
    },
    {
     "data": {
      "text/plain": [
       "<Figure size 432x288 with 0 Axes>"
      ]
     },
     "metadata": {},
     "output_type": "display_data"
    },
    {
     "data": {
      "text/plain": [
       "<Figure size 432x288 with 0 Axes>"
      ]
     },
     "metadata": {},
     "output_type": "display_data"
    },
    {
     "data": {
      "text/plain": [
       "<Figure size 432x288 with 0 Axes>"
      ]
     },
     "metadata": {},
     "output_type": "display_data"
    },
    {
     "data": {
      "text/plain": [
       "<Figure size 432x288 with 0 Axes>"
      ]
     },
     "metadata": {},
     "output_type": "display_data"
    },
    {
     "data": {
      "text/plain": [
       "<Figure size 432x288 with 0 Axes>"
      ]
     },
     "metadata": {},
     "output_type": "display_data"
    },
    {
     "data": {
      "text/plain": [
       "<Figure size 432x288 with 0 Axes>"
      ]
     },
     "metadata": {},
     "output_type": "display_data"
    },
    {
     "data": {
      "text/plain": [
       "<Figure size 432x288 with 0 Axes>"
      ]
     },
     "metadata": {},
     "output_type": "display_data"
    },
    {
     "data": {
      "text/plain": [
       "<Figure size 432x288 with 0 Axes>"
      ]
     },
     "metadata": {},
     "output_type": "display_data"
    },
    {
     "data": {
      "text/plain": [
       "<Figure size 432x288 with 0 Axes>"
      ]
     },
     "metadata": {},
     "output_type": "display_data"
    },
    {
     "data": {
      "text/plain": [
       "<Figure size 432x288 with 0 Axes>"
      ]
     },
     "metadata": {},
     "output_type": "display_data"
    },
    {
     "data": {
      "text/plain": [
       "<Figure size 432x288 with 0 Axes>"
      ]
     },
     "metadata": {},
     "output_type": "display_data"
    },
    {
     "data": {
      "text/plain": [
       "<Figure size 432x288 with 0 Axes>"
      ]
     },
     "metadata": {},
     "output_type": "display_data"
    },
    {
     "data": {
      "text/plain": [
       "<Figure size 432x288 with 0 Axes>"
      ]
     },
     "metadata": {},
     "output_type": "display_data"
    },
    {
     "data": {
      "text/plain": [
       "<Figure size 432x288 with 0 Axes>"
      ]
     },
     "metadata": {},
     "output_type": "display_data"
    },
    {
     "data": {
      "text/plain": [
       "<Figure size 432x288 with 0 Axes>"
      ]
     },
     "metadata": {},
     "output_type": "display_data"
    },
    {
     "data": {
      "text/plain": [
       "<Figure size 432x288 with 0 Axes>"
      ]
     },
     "metadata": {},
     "output_type": "display_data"
    },
    {
     "data": {
      "text/plain": [
       "<Figure size 432x288 with 0 Axes>"
      ]
     },
     "metadata": {},
     "output_type": "display_data"
    },
    {
     "data": {
      "text/plain": [
       "<Figure size 432x288 with 0 Axes>"
      ]
     },
     "metadata": {},
     "output_type": "display_data"
    },
    {
     "data": {
      "text/plain": [
       "<Figure size 432x288 with 0 Axes>"
      ]
     },
     "metadata": {},
     "output_type": "display_data"
    },
    {
     "data": {
      "text/plain": [
       "<Figure size 432x288 with 0 Axes>"
      ]
     },
     "metadata": {},
     "output_type": "display_data"
    },
    {
     "data": {
      "text/plain": [
       "<Figure size 432x288 with 0 Axes>"
      ]
     },
     "metadata": {},
     "output_type": "display_data"
    },
    {
     "data": {
      "text/plain": [
       "<Figure size 432x288 with 0 Axes>"
      ]
     },
     "metadata": {},
     "output_type": "display_data"
    },
    {
     "data": {
      "text/plain": [
       "<Figure size 432x288 with 0 Axes>"
      ]
     },
     "metadata": {},
     "output_type": "display_data"
    },
    {
     "data": {
      "text/plain": [
       "<Figure size 432x288 with 0 Axes>"
      ]
     },
     "metadata": {},
     "output_type": "display_data"
    },
    {
     "data": {
      "text/plain": [
       "<Figure size 432x288 with 0 Axes>"
      ]
     },
     "metadata": {},
     "output_type": "display_data"
    },
    {
     "data": {
      "text/plain": [
       "<Figure size 432x288 with 0 Axes>"
      ]
     },
     "metadata": {},
     "output_type": "display_data"
    },
    {
     "data": {
      "text/plain": [
       "<Figure size 432x288 with 0 Axes>"
      ]
     },
     "metadata": {},
     "output_type": "display_data"
    },
    {
     "data": {
      "text/plain": [
       "<Figure size 432x288 with 0 Axes>"
      ]
     },
     "metadata": {},
     "output_type": "display_data"
    },
    {
     "data": {
      "text/plain": [
       "<Figure size 432x288 with 0 Axes>"
      ]
     },
     "metadata": {},
     "output_type": "display_data"
    },
    {
     "data": {
      "text/plain": [
       "<Figure size 432x288 with 0 Axes>"
      ]
     },
     "metadata": {},
     "output_type": "display_data"
    },
    {
     "data": {
      "text/plain": [
       "<Figure size 432x288 with 0 Axes>"
      ]
     },
     "metadata": {},
     "output_type": "display_data"
    },
    {
     "data": {
      "text/plain": [
       "<Figure size 432x288 with 0 Axes>"
      ]
     },
     "metadata": {},
     "output_type": "display_data"
    },
    {
     "data": {
      "text/plain": [
       "<Figure size 432x288 with 0 Axes>"
      ]
     },
     "metadata": {},
     "output_type": "display_data"
    },
    {
     "data": {
      "text/plain": [
       "<Figure size 432x288 with 0 Axes>"
      ]
     },
     "metadata": {},
     "output_type": "display_data"
    },
    {
     "data": {
      "text/plain": [
       "<Figure size 432x288 with 0 Axes>"
      ]
     },
     "metadata": {},
     "output_type": "display_data"
    },
    {
     "data": {
      "text/plain": [
       "<Figure size 432x288 with 0 Axes>"
      ]
     },
     "metadata": {},
     "output_type": "display_data"
    },
    {
     "data": {
      "text/plain": [
       "<Figure size 432x288 with 0 Axes>"
      ]
     },
     "metadata": {},
     "output_type": "display_data"
    },
    {
     "data": {
      "text/plain": [
       "<Figure size 432x288 with 0 Axes>"
      ]
     },
     "metadata": {},
     "output_type": "display_data"
    },
    {
     "data": {
      "text/plain": [
       "<Figure size 432x288 with 0 Axes>"
      ]
     },
     "metadata": {},
     "output_type": "display_data"
    },
    {
     "data": {
      "text/plain": [
       "<Figure size 432x288 with 0 Axes>"
      ]
     },
     "metadata": {},
     "output_type": "display_data"
    },
    {
     "data": {
      "text/plain": [
       "<Figure size 432x288 with 0 Axes>"
      ]
     },
     "metadata": {},
     "output_type": "display_data"
    },
    {
     "data": {
      "text/plain": [
       "<Figure size 432x288 with 0 Axes>"
      ]
     },
     "metadata": {},
     "output_type": "display_data"
    },
    {
     "data": {
      "text/plain": [
       "<Figure size 432x288 with 0 Axes>"
      ]
     },
     "metadata": {},
     "output_type": "display_data"
    }
   ],
   "source": [
    "i = 0\n",
    "\n",
    "for fname in sound:\n",
    "\n",
    "    audio_signal, sample_rate = librosa.load(fname, duration=10, sr=48000) # wav 파일을 audio time series로 바꿈\n",
    "    signal = np.zeros(int(48000 * 10 + 1, ))\n",
    "    signal[:len(audio_signal)] = audio_signal\n",
    "\n",
    "    mel_spec = librosa.feature.melspectrogram(y=signal,\n",
    "                                              sr=48000,\n",
    "                                              n_fft=1024,\n",
    "                                              win_length=512,\n",
    "                                              window='hamming',\n",
    "                                              hop_length=256,\n",
    "                                              n_mels=128,\n",
    "                                              fmax=sample_rate / 2\n",
    "                                              )\n",
    "    mel_spec_db = librosa.power_to_db(mel_spec, ref=np.max) # amplitude를 db(데시벨)로 변환\n",
    "    mel_list.append(mel_spec_db)\n",
    "   \n",
    "    plt.figure()\n",
    "    plt.imsave('/home/vislab/dolearn-jimin-41/data/image_plt/Mel-Spectrogram_example_plt'+'%03d'%i+'.png', cv2.flip(np.expand_dims(mel_spec_db,axis=2),0))\n",
    "    \n",
    "    i += 1\n",
    "\n"
   ]
  },
  {
   "cell_type": "code",
   "execution_count": 5,
   "metadata": {},
   "outputs": [
    {
     "data": {
      "text/plain": [
       "<matplotlib.image.AxesImage at 0x7fbc7e68f7b8>"
      ]
     },
     "execution_count": 5,
     "metadata": {},
     "output_type": "execute_result"
    },
    {
     "data": {
      "image/png": "[encoded data removed]",
      "text/plain": [
       "<Figure size 432x288 with 1 Axes>"
      ]
     },
     "metadata": {
      "needs_background": "light"
     },
     "output_type": "display_data"
    }
   ],
   "source": [
    "plt.imshow(cv2.flip(np.expand_dims(mel_spec_db,axis=2),0))"
   ]
  },
  {
   "cell_type": "code",
   "execution_count": 6,
   "metadata": {},
   "outputs": [],
   "source": [
    "#label 만들기\n",
    "y_data_label=[]\n",
    "for i in range(len(sound)):\n",
    "    if sound[i][41]=='1':\n",
    "        if sound[i][42]=='.':\n",
    "            y_data_label.append(0) #위험\n",
    "        else:\n",
    "            y_data_label.append(1) #실내, 실외 == 일반\n",
    "    else:\n",
    "        y_data_label.append(0) #위험\n",
    "                "
   ]
  },
  {
   "cell_type": "code",
   "execution_count": 7,
   "metadata": {
    "id": "DIX5btAbxTsB"
   },
   "outputs": [],
   "source": [
    "y_data_label=np.array(y_data_label)\n",
    "pd.DataFrame(y_data_label).to_csv('/home/vislab/dolearn-jimin-41/data/y_data_label.csv',index=False)"
   ]
  }
 ],
 "metadata": {
  "accelerator": "GPU",
  "colab": {
   "name": "두런두런_만번만승_2.ipynb",
   "provenance": []
  },
  "kernelspec": {
   "display_name": "dolearn-gpu-41",
   "language": "python",
   "name": "dolearn-gpu-41"
  },
  "language_info": {
   "codemirror_mode": {
    "name": "ipython",
    "version": 3
   },
   "file_extension": ".py",
   "mimetype": "text/x-python",
   "name": "python",
   "nbconvert_exporter": "python",
   "pygments_lexer": "ipython3",
   "version": "3.6.13"
  }
 },
 "nbformat": 4,
 "nbformat_minor": 1
}
